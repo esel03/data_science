{
 "cells": [
  {
   "cell_type": "markdown",
   "id": "144d55dc",
   "metadata": {
    "deletable": false,
    "editable": false,
    "id": "c81daeeb",
    "panel-layout": {
     "height": 60.59375,
     "visible": true,
     "width": 100
    }
   },
   "source": [
    "# Исследование надежности заемщиков\n"
   ]
  },
  {
   "cell_type": "markdown",
   "id": "d960cf82",
   "metadata": {
    "deletable": false,
    "editable": false,
    "id": "827c20bf",
    "panel-layout": {
     "height": 68.28125,
     "visible": true,
     "width": 100
    }
   },
   "source": [
    "Во второй части проекта вы выполните шаги 3 и 4. Их вручную проверит ревьюер.\n",
    "Чтобы вам не пришлось писать код заново для шагов 1 и 2, мы добавили авторские решения в ячейки с кодом. \n",
    "\n"
   ]
  },
  {
   "cell_type": "markdown",
   "id": "7d05f2c5",
   "metadata": {
    "deletable": false,
    "editable": false,
    "id": "744d7639",
    "panel-layout": {
     "height": 50.8203125,
     "visible": true,
     "width": 100
    }
   },
   "source": [
    "## Откройте таблицу и изучите общую информацию о данных"
   ]
  },
  {
   "cell_type": "markdown",
   "id": "4dc410d0",
   "metadata": {
    "deletable": false,
    "editable": false,
    "id": "e7a14c31",
    "panel-layout": {
     "height": 81.28125,
     "visible": true,
     "width": 100
    }
   },
   "source": [
    "**Задание 1. Импортируйте библиотеку pandas. Считайте данные из csv-файла в датафрейм и сохраните в переменную `data`. Путь к файлу:**\n",
    "\n",
    "`/datasets/data.csv`"
   ]
  },
  {
   "cell_type": "code",
   "execution_count": 1,
   "id": "a35ec318",
   "metadata": {
    "deletable": false,
    "id": "7bcf75c9"
   },
   "outputs": [],
   "source": [
    "import pandas as pd\n",
    "\n",
    "try:\n",
    "    data = pd.read_csv('/datasets/data.csv')\n",
    "except:\n",
    "    data = pd.read_csv('https://code.s3.yandex.net/datasets/data.csv')"
   ]
  },
  {
   "cell_type": "markdown",
   "id": "ee465fd8",
   "metadata": {
    "deletable": false,
    "editable": false,
    "id": "b8038fe3",
    "panel-layout": {
     "height": 51.640625,
     "visible": true,
     "width": 100
    }
   },
   "source": [
    "**Задание 2. Выведите первые 20 строчек датафрейма `data` на экран.**"
   ]
  },
  {
   "cell_type": "code",
   "execution_count": 2,
   "id": "c97510e0",
   "metadata": {
    "deletable": false,
    "id": "2a7cab99",
    "outputId": "1a8f3ef2-d323-4ec2-ddf7-89670b5944c4",
    "panel-layout": {
     "height": 727.5,
     "visible": true,
     "width": 100
    }
   },
   "outputs": [
    {
     "data": {
      "text/html": [
       "<div>\n",
       "<style scoped>\n",
       "    .dataframe tbody tr th:only-of-type {\n",
       "        vertical-align: middle;\n",
       "    }\n",
       "\n",
       "    .dataframe tbody tr th {\n",
       "        vertical-align: top;\n",
       "    }\n",
       "\n",
       "    .dataframe thead th {\n",
       "        text-align: right;\n",
       "    }\n",
       "</style>\n",
       "<table border=\"1\" class=\"dataframe\">\n",
       "  <thead>\n",
       "    <tr style=\"text-align: right;\">\n",
       "      <th></th>\n",
       "      <th>children</th>\n",
       "      <th>days_employed</th>\n",
       "      <th>dob_years</th>\n",
       "      <th>education</th>\n",
       "      <th>education_id</th>\n",
       "      <th>family_status</th>\n",
       "      <th>family_status_id</th>\n",
       "      <th>gender</th>\n",
       "      <th>income_type</th>\n",
       "      <th>debt</th>\n",
       "      <th>total_income</th>\n",
       "      <th>purpose</th>\n",
       "    </tr>\n",
       "  </thead>\n",
       "  <tbody>\n",
       "    <tr>\n",
       "      <th>0</th>\n",
       "      <td>1</td>\n",
       "      <td>-8437.673028</td>\n",
       "      <td>42</td>\n",
       "      <td>высшее</td>\n",
       "      <td>0</td>\n",
       "      <td>женат / замужем</td>\n",
       "      <td>0</td>\n",
       "      <td>F</td>\n",
       "      <td>сотрудник</td>\n",
       "      <td>0</td>\n",
       "      <td>253875.639453</td>\n",
       "      <td>покупка жилья</td>\n",
       "    </tr>\n",
       "    <tr>\n",
       "      <th>1</th>\n",
       "      <td>1</td>\n",
       "      <td>-4024.803754</td>\n",
       "      <td>36</td>\n",
       "      <td>среднее</td>\n",
       "      <td>1</td>\n",
       "      <td>женат / замужем</td>\n",
       "      <td>0</td>\n",
       "      <td>F</td>\n",
       "      <td>сотрудник</td>\n",
       "      <td>0</td>\n",
       "      <td>112080.014102</td>\n",
       "      <td>приобретение автомобиля</td>\n",
       "    </tr>\n",
       "    <tr>\n",
       "      <th>2</th>\n",
       "      <td>0</td>\n",
       "      <td>-5623.422610</td>\n",
       "      <td>33</td>\n",
       "      <td>Среднее</td>\n",
       "      <td>1</td>\n",
       "      <td>женат / замужем</td>\n",
       "      <td>0</td>\n",
       "      <td>M</td>\n",
       "      <td>сотрудник</td>\n",
       "      <td>0</td>\n",
       "      <td>145885.952297</td>\n",
       "      <td>покупка жилья</td>\n",
       "    </tr>\n",
       "    <tr>\n",
       "      <th>3</th>\n",
       "      <td>3</td>\n",
       "      <td>-4124.747207</td>\n",
       "      <td>32</td>\n",
       "      <td>среднее</td>\n",
       "      <td>1</td>\n",
       "      <td>женат / замужем</td>\n",
       "      <td>0</td>\n",
       "      <td>M</td>\n",
       "      <td>сотрудник</td>\n",
       "      <td>0</td>\n",
       "      <td>267628.550329</td>\n",
       "      <td>дополнительное образование</td>\n",
       "    </tr>\n",
       "    <tr>\n",
       "      <th>4</th>\n",
       "      <td>0</td>\n",
       "      <td>340266.072047</td>\n",
       "      <td>53</td>\n",
       "      <td>среднее</td>\n",
       "      <td>1</td>\n",
       "      <td>гражданский брак</td>\n",
       "      <td>1</td>\n",
       "      <td>F</td>\n",
       "      <td>пенсионер</td>\n",
       "      <td>0</td>\n",
       "      <td>158616.077870</td>\n",
       "      <td>сыграть свадьбу</td>\n",
       "    </tr>\n",
       "    <tr>\n",
       "      <th>5</th>\n",
       "      <td>0</td>\n",
       "      <td>-926.185831</td>\n",
       "      <td>27</td>\n",
       "      <td>высшее</td>\n",
       "      <td>0</td>\n",
       "      <td>гражданский брак</td>\n",
       "      <td>1</td>\n",
       "      <td>M</td>\n",
       "      <td>компаньон</td>\n",
       "      <td>0</td>\n",
       "      <td>255763.565419</td>\n",
       "      <td>покупка жилья</td>\n",
       "    </tr>\n",
       "    <tr>\n",
       "      <th>6</th>\n",
       "      <td>0</td>\n",
       "      <td>-2879.202052</td>\n",
       "      <td>43</td>\n",
       "      <td>высшее</td>\n",
       "      <td>0</td>\n",
       "      <td>женат / замужем</td>\n",
       "      <td>0</td>\n",
       "      <td>F</td>\n",
       "      <td>компаньон</td>\n",
       "      <td>0</td>\n",
       "      <td>240525.971920</td>\n",
       "      <td>операции с жильем</td>\n",
       "    </tr>\n",
       "    <tr>\n",
       "      <th>7</th>\n",
       "      <td>0</td>\n",
       "      <td>-152.779569</td>\n",
       "      <td>50</td>\n",
       "      <td>СРЕДНЕЕ</td>\n",
       "      <td>1</td>\n",
       "      <td>женат / замужем</td>\n",
       "      <td>0</td>\n",
       "      <td>M</td>\n",
       "      <td>сотрудник</td>\n",
       "      <td>0</td>\n",
       "      <td>135823.934197</td>\n",
       "      <td>образование</td>\n",
       "    </tr>\n",
       "    <tr>\n",
       "      <th>8</th>\n",
       "      <td>2</td>\n",
       "      <td>-6929.865299</td>\n",
       "      <td>35</td>\n",
       "      <td>ВЫСШЕЕ</td>\n",
       "      <td>0</td>\n",
       "      <td>гражданский брак</td>\n",
       "      <td>1</td>\n",
       "      <td>F</td>\n",
       "      <td>сотрудник</td>\n",
       "      <td>0</td>\n",
       "      <td>95856.832424</td>\n",
       "      <td>на проведение свадьбы</td>\n",
       "    </tr>\n",
       "    <tr>\n",
       "      <th>9</th>\n",
       "      <td>0</td>\n",
       "      <td>-2188.756445</td>\n",
       "      <td>41</td>\n",
       "      <td>среднее</td>\n",
       "      <td>1</td>\n",
       "      <td>женат / замужем</td>\n",
       "      <td>0</td>\n",
       "      <td>M</td>\n",
       "      <td>сотрудник</td>\n",
       "      <td>0</td>\n",
       "      <td>144425.938277</td>\n",
       "      <td>покупка жилья для семьи</td>\n",
       "    </tr>\n",
       "    <tr>\n",
       "      <th>10</th>\n",
       "      <td>2</td>\n",
       "      <td>-4171.483647</td>\n",
       "      <td>36</td>\n",
       "      <td>высшее</td>\n",
       "      <td>0</td>\n",
       "      <td>женат / замужем</td>\n",
       "      <td>0</td>\n",
       "      <td>M</td>\n",
       "      <td>компаньон</td>\n",
       "      <td>0</td>\n",
       "      <td>113943.491460</td>\n",
       "      <td>покупка недвижимости</td>\n",
       "    </tr>\n",
       "    <tr>\n",
       "      <th>11</th>\n",
       "      <td>0</td>\n",
       "      <td>-792.701887</td>\n",
       "      <td>40</td>\n",
       "      <td>среднее</td>\n",
       "      <td>1</td>\n",
       "      <td>женат / замужем</td>\n",
       "      <td>0</td>\n",
       "      <td>F</td>\n",
       "      <td>сотрудник</td>\n",
       "      <td>0</td>\n",
       "      <td>77069.234271</td>\n",
       "      <td>покупка коммерческой недвижимости</td>\n",
       "    </tr>\n",
       "    <tr>\n",
       "      <th>12</th>\n",
       "      <td>0</td>\n",
       "      <td>NaN</td>\n",
       "      <td>65</td>\n",
       "      <td>среднее</td>\n",
       "      <td>1</td>\n",
       "      <td>гражданский брак</td>\n",
       "      <td>1</td>\n",
       "      <td>M</td>\n",
       "      <td>пенсионер</td>\n",
       "      <td>0</td>\n",
       "      <td>NaN</td>\n",
       "      <td>сыграть свадьбу</td>\n",
       "    </tr>\n",
       "    <tr>\n",
       "      <th>13</th>\n",
       "      <td>0</td>\n",
       "      <td>-1846.641941</td>\n",
       "      <td>54</td>\n",
       "      <td>неоконченное высшее</td>\n",
       "      <td>2</td>\n",
       "      <td>женат / замужем</td>\n",
       "      <td>0</td>\n",
       "      <td>F</td>\n",
       "      <td>сотрудник</td>\n",
       "      <td>0</td>\n",
       "      <td>130458.228857</td>\n",
       "      <td>приобретение автомобиля</td>\n",
       "    </tr>\n",
       "    <tr>\n",
       "      <th>14</th>\n",
       "      <td>0</td>\n",
       "      <td>-1844.956182</td>\n",
       "      <td>56</td>\n",
       "      <td>высшее</td>\n",
       "      <td>0</td>\n",
       "      <td>гражданский брак</td>\n",
       "      <td>1</td>\n",
       "      <td>F</td>\n",
       "      <td>компаньон</td>\n",
       "      <td>1</td>\n",
       "      <td>165127.911772</td>\n",
       "      <td>покупка жилой недвижимости</td>\n",
       "    </tr>\n",
       "    <tr>\n",
       "      <th>15</th>\n",
       "      <td>1</td>\n",
       "      <td>-972.364419</td>\n",
       "      <td>26</td>\n",
       "      <td>среднее</td>\n",
       "      <td>1</td>\n",
       "      <td>женат / замужем</td>\n",
       "      <td>0</td>\n",
       "      <td>F</td>\n",
       "      <td>сотрудник</td>\n",
       "      <td>0</td>\n",
       "      <td>116820.904450</td>\n",
       "      <td>строительство собственной недвижимости</td>\n",
       "    </tr>\n",
       "    <tr>\n",
       "      <th>16</th>\n",
       "      <td>0</td>\n",
       "      <td>-1719.934226</td>\n",
       "      <td>35</td>\n",
       "      <td>среднее</td>\n",
       "      <td>1</td>\n",
       "      <td>женат / замужем</td>\n",
       "      <td>0</td>\n",
       "      <td>F</td>\n",
       "      <td>сотрудник</td>\n",
       "      <td>0</td>\n",
       "      <td>289202.704229</td>\n",
       "      <td>недвижимость</td>\n",
       "    </tr>\n",
       "    <tr>\n",
       "      <th>17</th>\n",
       "      <td>0</td>\n",
       "      <td>-2369.999720</td>\n",
       "      <td>33</td>\n",
       "      <td>высшее</td>\n",
       "      <td>0</td>\n",
       "      <td>гражданский брак</td>\n",
       "      <td>1</td>\n",
       "      <td>M</td>\n",
       "      <td>сотрудник</td>\n",
       "      <td>0</td>\n",
       "      <td>90410.586745</td>\n",
       "      <td>строительство недвижимости</td>\n",
       "    </tr>\n",
       "    <tr>\n",
       "      <th>18</th>\n",
       "      <td>0</td>\n",
       "      <td>400281.136913</td>\n",
       "      <td>53</td>\n",
       "      <td>среднее</td>\n",
       "      <td>1</td>\n",
       "      <td>вдовец / вдова</td>\n",
       "      <td>2</td>\n",
       "      <td>F</td>\n",
       "      <td>пенсионер</td>\n",
       "      <td>0</td>\n",
       "      <td>56823.777243</td>\n",
       "      <td>на покупку подержанного автомобиля</td>\n",
       "    </tr>\n",
       "    <tr>\n",
       "      <th>19</th>\n",
       "      <td>0</td>\n",
       "      <td>-10038.818549</td>\n",
       "      <td>48</td>\n",
       "      <td>СРЕДНЕЕ</td>\n",
       "      <td>1</td>\n",
       "      <td>в разводе</td>\n",
       "      <td>3</td>\n",
       "      <td>F</td>\n",
       "      <td>сотрудник</td>\n",
       "      <td>0</td>\n",
       "      <td>242831.107982</td>\n",
       "      <td>на покупку своего автомобиля</td>\n",
       "    </tr>\n",
       "  </tbody>\n",
       "</table>\n",
       "</div>"
      ],
      "text/plain": [
       "    children  days_employed  dob_years            education  education_id  \\\n",
       "0          1   -8437.673028         42               высшее             0   \n",
       "1          1   -4024.803754         36              среднее             1   \n",
       "2          0   -5623.422610         33              Среднее             1   \n",
       "3          3   -4124.747207         32              среднее             1   \n",
       "4          0  340266.072047         53              среднее             1   \n",
       "5          0    -926.185831         27               высшее             0   \n",
       "6          0   -2879.202052         43               высшее             0   \n",
       "7          0    -152.779569         50              СРЕДНЕЕ             1   \n",
       "8          2   -6929.865299         35               ВЫСШЕЕ             0   \n",
       "9          0   -2188.756445         41              среднее             1   \n",
       "10         2   -4171.483647         36               высшее             0   \n",
       "11         0    -792.701887         40              среднее             1   \n",
       "12         0            NaN         65              среднее             1   \n",
       "13         0   -1846.641941         54  неоконченное высшее             2   \n",
       "14         0   -1844.956182         56               высшее             0   \n",
       "15         1    -972.364419         26              среднее             1   \n",
       "16         0   -1719.934226         35              среднее             1   \n",
       "17         0   -2369.999720         33               высшее             0   \n",
       "18         0  400281.136913         53              среднее             1   \n",
       "19         0  -10038.818549         48              СРЕДНЕЕ             1   \n",
       "\n",
       "       family_status  family_status_id gender income_type  debt  \\\n",
       "0    женат / замужем                 0      F   сотрудник     0   \n",
       "1    женат / замужем                 0      F   сотрудник     0   \n",
       "2    женат / замужем                 0      M   сотрудник     0   \n",
       "3    женат / замужем                 0      M   сотрудник     0   \n",
       "4   гражданский брак                 1      F   пенсионер     0   \n",
       "5   гражданский брак                 1      M   компаньон     0   \n",
       "6    женат / замужем                 0      F   компаньон     0   \n",
       "7    женат / замужем                 0      M   сотрудник     0   \n",
       "8   гражданский брак                 1      F   сотрудник     0   \n",
       "9    женат / замужем                 0      M   сотрудник     0   \n",
       "10   женат / замужем                 0      M   компаньон     0   \n",
       "11   женат / замужем                 0      F   сотрудник     0   \n",
       "12  гражданский брак                 1      M   пенсионер     0   \n",
       "13   женат / замужем                 0      F   сотрудник     0   \n",
       "14  гражданский брак                 1      F   компаньон     1   \n",
       "15   женат / замужем                 0      F   сотрудник     0   \n",
       "16   женат / замужем                 0      F   сотрудник     0   \n",
       "17  гражданский брак                 1      M   сотрудник     0   \n",
       "18    вдовец / вдова                 2      F   пенсионер     0   \n",
       "19         в разводе                 3      F   сотрудник     0   \n",
       "\n",
       "     total_income                                 purpose  \n",
       "0   253875.639453                           покупка жилья  \n",
       "1   112080.014102                 приобретение автомобиля  \n",
       "2   145885.952297                           покупка жилья  \n",
       "3   267628.550329              дополнительное образование  \n",
       "4   158616.077870                         сыграть свадьбу  \n",
       "5   255763.565419                           покупка жилья  \n",
       "6   240525.971920                       операции с жильем  \n",
       "7   135823.934197                             образование  \n",
       "8    95856.832424                   на проведение свадьбы  \n",
       "9   144425.938277                 покупка жилья для семьи  \n",
       "10  113943.491460                    покупка недвижимости  \n",
       "11   77069.234271       покупка коммерческой недвижимости  \n",
       "12            NaN                         сыграть свадьбу  \n",
       "13  130458.228857                 приобретение автомобиля  \n",
       "14  165127.911772              покупка жилой недвижимости  \n",
       "15  116820.904450  строительство собственной недвижимости  \n",
       "16  289202.704229                            недвижимость  \n",
       "17   90410.586745              строительство недвижимости  \n",
       "18   56823.777243      на покупку подержанного автомобиля  \n",
       "19  242831.107982            на покупку своего автомобиля  "
      ]
     },
     "execution_count": 2,
     "metadata": {},
     "output_type": "execute_result"
    }
   ],
   "source": [
    "data.head(20)"
   ]
  },
  {
   "cell_type": "markdown",
   "id": "ac8cf266",
   "metadata": {
    "deletable": false,
    "editable": false,
    "id": "1c12e233",
    "panel-layout": {
     "height": 51.640625,
     "visible": true,
     "width": 100
    }
   },
   "source": [
    "**Задание 3. Выведите основную информацию о датафрейме с помощью метода `info()`.**"
   ]
  },
  {
   "cell_type": "code",
   "execution_count": 3,
   "id": "64107098",
   "metadata": {
    "deletable": false,
    "id": "2b757bca",
    "outputId": "15376089-8dad-46c9-b520-c05248d43158",
    "panel-layout": {
     "height": 0,
     "visible": true,
     "width": 100
    }
   },
   "outputs": [
    {
     "name": "stdout",
     "output_type": "stream",
     "text": [
      "<class 'pandas.core.frame.DataFrame'>\n",
      "RangeIndex: 21525 entries, 0 to 21524\n",
      "Data columns (total 12 columns):\n",
      " #   Column            Non-Null Count  Dtype  \n",
      "---  ------            --------------  -----  \n",
      " 0   children          21525 non-null  int64  \n",
      " 1   days_employed     19351 non-null  float64\n",
      " 2   dob_years         21525 non-null  int64  \n",
      " 3   education         21525 non-null  object \n",
      " 4   education_id      21525 non-null  int64  \n",
      " 5   family_status     21525 non-null  object \n",
      " 6   family_status_id  21525 non-null  int64  \n",
      " 7   gender            21525 non-null  object \n",
      " 8   income_type       21525 non-null  object \n",
      " 9   debt              21525 non-null  int64  \n",
      " 10  total_income      19351 non-null  float64\n",
      " 11  purpose           21525 non-null  object \n",
      "dtypes: float64(2), int64(5), object(5)\n",
      "memory usage: 2.0+ MB\n"
     ]
    }
   ],
   "source": [
    "data.info()"
   ]
  },
  {
   "cell_type": "markdown",
   "id": "a62ab20a",
   "metadata": {
    "deletable": false,
    "editable": false,
    "id": "333ec665",
    "panel-layout": {
     "height": 50.8203125,
     "visible": true,
     "width": 100
    }
   },
   "source": [
    "## Предобработка данных"
   ]
  },
  {
   "cell_type": "markdown",
   "id": "be478d49",
   "metadata": {
    "deletable": false,
    "editable": false,
    "id": "02d92d53",
    "panel-layout": {
     "height": 44.0859375,
     "visible": true,
     "width": 100
    }
   },
   "source": [
    "### Удаление пропусков"
   ]
  },
  {
   "cell_type": "markdown",
   "id": "6bdc06b3",
   "metadata": {
    "deletable": false,
    "editable": false,
    "id": "cd84967c",
    "panel-layout": {
     "height": 51.140625,
     "visible": true,
     "width": 100
    }
   },
   "source": [
    "**Задание 4. Выведите количество пропущенных значений для каждого столбца. Используйте комбинацию двух методов.**"
   ]
  },
  {
   "cell_type": "code",
   "execution_count": 4,
   "id": "4c64122a",
   "metadata": {
    "deletable": false,
    "id": "7f9b2309",
    "outputId": "81f4d817-781c-465c-ed15-91ce4446810d",
    "panel-layout": {
     "height": 355.5,
     "visible": true,
     "width": 100
    }
   },
   "outputs": [
    {
     "data": {
      "text/plain": [
       "children               0\n",
       "days_employed       2174\n",
       "dob_years              0\n",
       "education              0\n",
       "education_id           0\n",
       "family_status          0\n",
       "family_status_id       0\n",
       "gender                 0\n",
       "income_type            0\n",
       "debt                   0\n",
       "total_income        2174\n",
       "purpose                0\n",
       "dtype: int64"
      ]
     },
     "execution_count": 4,
     "metadata": {},
     "output_type": "execute_result"
    }
   ],
   "source": [
    "data.isna().sum()"
   ]
  },
  {
   "cell_type": "markdown",
   "id": "30d1cb15",
   "metadata": {
    "deletable": false,
    "editable": false,
    "id": "db86e27b",
    "panel-layout": {
     "height": 104.0625,
     "visible": true,
     "width": 100
    }
   },
   "source": [
    "**Задание 5. В двух столбцах есть пропущенные значения. Один из них — `days_employed`. Пропуски в этом столбце вы обработаете на следующем этапе. Другой столбец с пропущенными значениями — `total_income` — хранит данные о доходах. На сумму дохода сильнее всего влияет тип занятости, поэтому заполнить пропуски в этом столбце нужно медианным значением по каждому типу из столбца `income_type`. Например, у человека с типом занятости `сотрудник` пропуск в столбце `total_income` должен быть заполнен медианным доходом среди всех записей с тем же типом.**"
   ]
  },
  {
   "cell_type": "code",
   "execution_count": 5,
   "id": "8ba4ae6e",
   "metadata": {
    "deletable": false,
    "id": "42006a93"
   },
   "outputs": [],
   "source": [
    "for t in data['income_type'].unique():\n",
    "    data.loc[(data['income_type'] == t) & (data['total_income'].isna()), 'total_income'] = \\\n",
    "    data.loc[(data['income_type'] == t), 'total_income'].median()"
   ]
  },
  {
   "cell_type": "markdown",
   "id": "9faa75c9",
   "metadata": {
    "deletable": false,
    "editable": false,
    "id": "89da5ece",
    "panel-layout": {
     "height": 44.0859375,
     "visible": true,
     "width": 100
    }
   },
   "source": [
    "### Обработка аномальных значений"
   ]
  },
  {
   "cell_type": "markdown",
   "id": "98dfd00f",
   "metadata": {
    "deletable": false,
    "editable": false,
    "id": "57964554",
    "panel-layout": {
     "height": 86.421875,
     "visible": true,
     "width": 100
    }
   },
   "source": [
    "**Задание 6. В данных могут встречаться артефакты (аномалии) — значения, которые не отражают действительность и появились по какой-то ошибке. таким артефактом будет отрицательное количество дней трудового стажа в столбце `days_employed`. Для реальных данных это нормально. Обработайте значения в этом столбце: замените все отрицательные значения положительными с помощью метода `abs()`.**"
   ]
  },
  {
   "cell_type": "code",
   "execution_count": 6,
   "id": "aee33a22",
   "metadata": {
    "deletable": false,
    "id": "f6f055bf"
   },
   "outputs": [],
   "source": [
    "data['days_employed'] = data['days_employed'].abs()"
   ]
  },
  {
   "cell_type": "markdown",
   "id": "8d45929f",
   "metadata": {
    "deletable": false,
    "editable": false,
    "id": "6107dd2f",
    "panel-layout": {
     "height": 51.640625,
     "visible": true,
     "width": 100
    }
   },
   "source": [
    "**Задание 7. Для каждого типа занятости выведите медианное значение трудового стажа `days_employed` в днях.**"
   ]
  },
  {
   "cell_type": "code",
   "execution_count": 7,
   "id": "e0b8bec9",
   "metadata": {
    "deletable": false,
    "id": "85a5faf6",
    "outputId": "801ef80e-522b-4668-f34e-565af7432bcf",
    "panel-layout": {
     "height": 280,
     "visible": true,
     "width": 100
    }
   },
   "outputs": [
    {
     "data": {
      "text/plain": [
       "income_type\n",
       "безработный        366413.652744\n",
       "в декрете            3296.759962\n",
       "госслужащий          2689.368353\n",
       "компаньон            1547.382223\n",
       "пенсионер          365213.306266\n",
       "предприниматель       520.848083\n",
       "сотрудник            1574.202821\n",
       "студент               578.751554\n",
       "Name: days_employed, dtype: float64"
      ]
     },
     "execution_count": 7,
     "metadata": {},
     "output_type": "execute_result"
    }
   ],
   "source": [
    "data.groupby('income_type')['days_employed'].agg('median')"
   ]
  },
  {
   "cell_type": "markdown",
   "id": "931687c2",
   "metadata": {
    "deletable": false,
    "editable": false,
    "id": "38d1a030",
    "panel-layout": {
     "height": 68.28125,
     "visible": true,
     "width": 100
    }
   },
   "source": [
    "У двух типов (безработные и пенсионеры) получатся аномально большие значения. Исправить такие значения сложно, поэтому оставьте их как есть. Тем более этот столбец не понадобится вам для исследования."
   ]
  },
  {
   "cell_type": "markdown",
   "id": "3a1386d5",
   "metadata": {
    "deletable": false,
    "editable": false,
    "id": "d8a9f147",
    "panel-layout": {
     "height": 51.640625,
     "visible": true,
     "width": 100
    }
   },
   "source": [
    "**Задание 8. Выведите перечень уникальных значений столбца `children`.**"
   ]
  },
  {
   "cell_type": "code",
   "execution_count": 8,
   "id": "ddd80b86",
   "metadata": {
    "deletable": false,
    "id": "ef5056eb",
    "outputId": "6975b15c-7f95-4697-d16d-a0c79b657b03",
    "panel-layout": {
     "height": 27.140625,
     "visible": true,
     "width": 100
    }
   },
   "outputs": [
    {
     "data": {
      "text/plain": [
       "array([ 1,  0,  3,  2, -1,  4, 20,  5])"
      ]
     },
     "execution_count": 8,
     "metadata": {},
     "output_type": "execute_result"
    }
   ],
   "source": [
    "data['children'].unique()"
   ]
  },
  {
   "cell_type": "markdown",
   "id": "42744230",
   "metadata": {
    "deletable": false,
    "editable": false,
    "id": "40b9ebf2",
    "panel-layout": {
     "height": 51.640625,
     "visible": true,
     "width": 100
    }
   },
   "source": [
    "**Задание 9. В столбце `children` есть два аномальных значения. Удалите строки, в которых встречаются такие аномальные значения из датафрейма `data`.**"
   ]
  },
  {
   "cell_type": "code",
   "execution_count": 9,
   "id": "a123e903",
   "metadata": {
    "deletable": false,
    "id": "3ff9801d"
   },
   "outputs": [],
   "source": [
    "data = data[(data['children'] != -1) & (data['children'] != 20)]"
   ]
  },
  {
   "cell_type": "markdown",
   "id": "26784151",
   "metadata": {
    "deletable": false,
    "editable": false,
    "id": "bbc4d0ce",
    "panel-layout": {
     "height": 51.640625,
     "visible": true,
     "width": 100
    }
   },
   "source": [
    "**Задание 10. Ещё раз выведите перечень уникальных значений столбца `children`, чтобы убедиться, что артефакты удалены.**"
   ]
  },
  {
   "cell_type": "code",
   "execution_count": 10,
   "id": "3b3cdbb0",
   "metadata": {
    "deletable": false,
    "id": "ad4fa8b7",
    "outputId": "b2097101-d49d-44d9-901b-32a65c9463d1",
    "panel-layout": {
     "height": 27.140625,
     "visible": true,
     "width": 100
    }
   },
   "outputs": [
    {
     "data": {
      "text/plain": [
       "array([1, 0, 3, 2, 4, 5])"
      ]
     },
     "execution_count": 10,
     "metadata": {},
     "output_type": "execute_result"
    }
   ],
   "source": [
    "data['children'].unique()"
   ]
  },
  {
   "cell_type": "markdown",
   "id": "1079edb9",
   "metadata": {
    "deletable": false,
    "editable": false,
    "id": "75440b63",
    "panel-layout": {
     "height": 44.0859375,
     "visible": true,
     "width": 100
    }
   },
   "source": [
    "### Удаление пропусков (продолжение)"
   ]
  },
  {
   "cell_type": "markdown",
   "id": "eb651bc2",
   "metadata": {
    "deletable": false,
    "editable": false,
    "id": "f4ea573f",
    "panel-layout": {
     "height": 51.640625,
     "visible": true,
     "width": 100
    }
   },
   "source": [
    "**Задание 11. Заполните пропуски в столбце `days_employed` медианными значениями по каждого типа занятости `income_type`.**"
   ]
  },
  {
   "cell_type": "code",
   "execution_count": 11,
   "id": "fba00839",
   "metadata": {
    "deletable": false,
    "id": "af6b1a7e"
   },
   "outputs": [],
   "source": [
    "for t in data['income_type'].unique():\n",
    "    data.loc[(data['income_type'] == t) & (data['days_employed'].isna()), 'days_employed'] = \\\n",
    "    data.loc[(data['income_type'] == t), 'days_employed'].median()"
   ]
  },
  {
   "cell_type": "markdown",
   "id": "b29bf918",
   "metadata": {
    "deletable": false,
    "editable": false,
    "id": "2753f40d",
    "panel-layout": {
     "height": 51.140625,
     "visible": true,
     "width": 100
    }
   },
   "source": [
    "**Задание 12. Убедитесь, что все пропуски заполнены. Проверьте себя и ещё раз выведите количество пропущенных значений для каждого столбца с помощью двух методов.**"
   ]
  },
  {
   "cell_type": "code",
   "execution_count": 12,
   "id": "882cbdf8",
   "metadata": {
    "deletable": false,
    "id": "55f78bc2",
    "outputId": "8da1e4e1-358e-4e87-98c9-f261bce0a7b2",
    "panel-layout": {
     "height": 355.5,
     "visible": true,
     "width": 100
    }
   },
   "outputs": [
    {
     "data": {
      "text/plain": [
       "children            0\n",
       "days_employed       0\n",
       "dob_years           0\n",
       "education           0\n",
       "education_id        0\n",
       "family_status       0\n",
       "family_status_id    0\n",
       "gender              0\n",
       "income_type         0\n",
       "debt                0\n",
       "total_income        0\n",
       "purpose             0\n",
       "dtype: int64"
      ]
     },
     "execution_count": 12,
     "metadata": {},
     "output_type": "execute_result"
    }
   ],
   "source": [
    "data.isna().sum()"
   ]
  },
  {
   "cell_type": "markdown",
   "id": "3385bd67",
   "metadata": {
    "deletable": false,
    "editable": false,
    "id": "ddc81e43",
    "panel-layout": {
     "height": 44.0859375,
     "visible": true,
     "width": 100
    }
   },
   "source": [
    "### Изменение типов данных"
   ]
  },
  {
   "cell_type": "markdown",
   "id": "22c3779c",
   "metadata": {
    "deletable": false,
    "editable": false,
    "id": "42d19d24",
    "panel-layout": {
     "height": 51.640625,
     "visible": true,
     "width": 100
    }
   },
   "source": [
    "**Задание 13. Замените вещественный тип данных в столбце `total_income` на целочисленный с помощью метода `astype()`.**"
   ]
  },
  {
   "cell_type": "code",
   "execution_count": 13,
   "id": "2c91346d",
   "metadata": {
    "deletable": false,
    "id": "920b65ad"
   },
   "outputs": [],
   "source": [
    "data['total_income'] = data['total_income'].astype(int)"
   ]
  },
  {
   "cell_type": "markdown",
   "id": "9605f751",
   "metadata": {
    "deletable": false,
    "editable": false,
    "id": "80c420ba",
    "panel-layout": {
     "height": 44.0859375,
     "visible": true,
     "width": 100
    }
   },
   "source": [
    "### Обработка дубликатов"
   ]
  },
  {
   "cell_type": "markdown",
   "id": "1dd1db71",
   "metadata": {
    "deletable": false,
    "editable": false,
    "panel-layout": {
     "height": 68.78125,
     "visible": true,
     "width": 100
    }
   },
   "source": [
    "**Задание 14. Обработайте неявные дубликаты в столбце `education`. В этом столбце есть одни и те же значения, но записанные по-разному: с использованием заглавных и строчных букв. Приведите их к нижнему регистру. Проверьте остальные столбцы.**"
   ]
  },
  {
   "cell_type": "code",
   "execution_count": 14,
   "id": "7e90a417",
   "metadata": {
    "deletable": false
   },
   "outputs": [],
   "source": [
    "data['education'] = data['education'].str.lower()"
   ]
  },
  {
   "cell_type": "markdown",
   "id": "58a98478",
   "metadata": {
    "deletable": false,
    "editable": false,
    "id": "dc587695",
    "panel-layout": {
     "height": 51.140625,
     "visible": true,
     "width": 100
    }
   },
   "source": [
    "**Задание 15. Выведите на экран количество строк-дубликатов в данных. Если такие строки присутствуют, удалите их.**"
   ]
  },
  {
   "cell_type": "code",
   "execution_count": 15,
   "id": "5539e49c",
   "metadata": {
    "deletable": false,
    "id": "3ee445e4",
    "outputId": "9684deba-1934-42d1-99e1-cda61740f822",
    "panel-layout": {
     "height": 27.140625,
     "visible": true,
     "width": 100
    }
   },
   "outputs": [
    {
     "data": {
      "text/plain": [
       "71"
      ]
     },
     "execution_count": 15,
     "metadata": {},
     "output_type": "execute_result"
    }
   ],
   "source": [
    "data.duplicated().sum()"
   ]
  },
  {
   "cell_type": "code",
   "execution_count": 16,
   "id": "403822be",
   "metadata": {
    "deletable": false,
    "id": "8575fe05"
   },
   "outputs": [],
   "source": [
    "data = data.drop_duplicates()"
   ]
  },
  {
   "cell_type": "markdown",
   "id": "ddca76d5",
   "metadata": {
    "deletable": false,
    "editable": false,
    "id": "9904cf55",
    "panel-layout": {
     "height": 44.0859375,
     "visible": true,
     "width": 100
    }
   },
   "source": [
    "### Категоризация данных"
   ]
  },
  {
   "cell_type": "markdown",
   "id": "83be67ff",
   "metadata": {
    "deletable": false,
    "editable": false,
    "id": "72fcc8a2",
    "panel-layout": {
     "height": 199.125,
     "visible": true,
     "width": 100
    }
   },
   "source": [
    "**Задание 16. На основании диапазонов, указанных ниже, создайте в датафрейме `data` столбец `total_income_category` с категориями:**\n",
    "\n",
    "- 0–30000 — `'E'`;\n",
    "- 30001–50000 — `'D'`;\n",
    "- 50001–200000 — `'C'`;\n",
    "- 200001–1000000 — `'B'`;\n",
    "- 1000001 и выше — `'A'`.\n",
    "\n",
    "\n",
    "**Например, кредитополучателю с доходом 25000 нужно назначить категорию `'E'`, а клиенту, получающему 235000, — `'B'`. Используйте собственную функцию с именем `categorize_income()` и метод `apply()`.**"
   ]
  },
  {
   "cell_type": "code",
   "execution_count": 17,
   "id": "d61326b4",
   "metadata": {
    "deletable": false,
    "id": "e1771346"
   },
   "outputs": [],
   "source": [
    "def categorize_income(income):\n",
    "    try:\n",
    "        if 0 <= income <= 30000:\n",
    "            return 'E'\n",
    "        elif 30001 <= income <= 50000:\n",
    "            return 'D'\n",
    "        elif 50001 <= income <= 200000:\n",
    "            return 'C'\n",
    "        elif 200001 <= income <= 1000000:\n",
    "            return 'B'\n",
    "        elif income >= 1000001:\n",
    "            return 'A'\n",
    "    except:\n",
    "        pass"
   ]
  },
  {
   "cell_type": "code",
   "execution_count": 18,
   "id": "35422635",
   "metadata": {
    "deletable": false,
    "id": "d5f3586d"
   },
   "outputs": [],
   "source": [
    "data['total_income_category'] = data['total_income'].apply(categorize_income)"
   ]
  },
  {
   "cell_type": "markdown",
   "id": "6d50dee8",
   "metadata": {
    "deletable": false,
    "editable": false,
    "id": "dde49b5c",
    "panel-layout": {
     "height": 51.640625,
     "visible": true,
     "width": 100
    }
   },
   "source": [
    "**Задание 17. Выведите на экран перечень уникальных целей взятия кредита из столбца `purpose`.**"
   ]
  },
  {
   "cell_type": "code",
   "execution_count": 19,
   "id": "aaa2766f",
   "metadata": {
    "deletable": false,
    "id": "f67ce9b3",
    "outputId": "673c12d9-7d7e-4ae0-9812-c622c89dd244",
    "panel-layout": {
     "height": 267.109375,
     "visible": true,
     "width": 100
    }
   },
   "outputs": [
    {
     "data": {
      "text/plain": [
       "array(['покупка жилья', 'приобретение автомобиля',\n",
       "       'дополнительное образование', 'сыграть свадьбу',\n",
       "       'операции с жильем', 'образование', 'на проведение свадьбы',\n",
       "       'покупка жилья для семьи', 'покупка недвижимости',\n",
       "       'покупка коммерческой недвижимости', 'покупка жилой недвижимости',\n",
       "       'строительство собственной недвижимости', 'недвижимость',\n",
       "       'строительство недвижимости', 'на покупку подержанного автомобиля',\n",
       "       'на покупку своего автомобиля',\n",
       "       'операции с коммерческой недвижимостью',\n",
       "       'строительство жилой недвижимости', 'жилье',\n",
       "       'операции со своей недвижимостью', 'автомобили',\n",
       "       'заняться образованием', 'сделка с подержанным автомобилем',\n",
       "       'получение образования', 'автомобиль', 'свадьба',\n",
       "       'получение дополнительного образования', 'покупка своего жилья',\n",
       "       'операции с недвижимостью', 'получение высшего образования',\n",
       "       'свой автомобиль', 'сделка с автомобилем',\n",
       "       'профильное образование', 'высшее образование',\n",
       "       'покупка жилья для сдачи', 'на покупку автомобиля', 'ремонт жилью',\n",
       "       'заняться высшим образованием'], dtype=object)"
      ]
     },
     "execution_count": 19,
     "metadata": {},
     "output_type": "execute_result"
    }
   ],
   "source": [
    "data['purpose'].unique()"
   ]
  },
  {
   "cell_type": "markdown",
   "id": "3d446a5b",
   "metadata": {
    "deletable": false,
    "editable": false,
    "id": "85d0aef0",
    "panel-layout": {
     "height": 210.625,
     "visible": true,
     "width": 100
    }
   },
   "source": [
    "**Задание 18. Создайте функцию, которая на основании данных из столбца `purpose` сформирует новый столбец `purpose_category`, в который войдут следующие категории:**\n",
    "\n",
    "- `'операции с автомобилем'`,\n",
    "- `'операции с недвижимостью'`,\n",
    "- `'проведение свадьбы'`,\n",
    "- `'получение образования'`.\n",
    "\n",
    "**Например, если в столбце `purpose` находится подстрока `'на покупку автомобиля'`, то в столбце `purpose_category` должна появиться строка `'операции с автомобилем'`.**\n",
    "\n",
    "**Используйте собственную функцию с именем `categorize_purpose()` и метод `apply()`. Изучите данные в столбце `purpose` и определите, какие подстроки помогут вам правильно определить категорию.**"
   ]
  },
  {
   "cell_type": "code",
   "execution_count": 20,
   "id": "a7a1b4b5",
   "metadata": {
    "deletable": false,
    "id": "e149fab4"
   },
   "outputs": [],
   "source": [
    "def categorize_purpose(row):\n",
    "    try:\n",
    "        if 'автом' in row:\n",
    "            return 'операции с автомобилем'\n",
    "        elif 'жил' in row or 'недвиж' in row:\n",
    "            return 'операции с недвижимостью'\n",
    "        elif 'свад' in row:\n",
    "            return 'проведение свадьбы'\n",
    "        elif 'образов' in row:\n",
    "            return 'получение образования'\n",
    "    except:\n",
    "        return 'нет категории'"
   ]
  },
  {
   "cell_type": "code",
   "execution_count": 21,
   "id": "5e5e7bdb",
   "metadata": {
    "deletable": false,
    "id": "bf36e69b"
   },
   "outputs": [],
   "source": [
    "data['purpose_category'] = data['purpose'].apply(categorize_purpose)"
   ]
  },
  {
   "cell_type": "markdown",
   "id": "6cef98c3",
   "metadata": {
    "deletable": false,
    "editable": false,
    "id": "09b242bf",
    "panel-layout": {
     "height": 44.0859375,
     "visible": true,
     "width": 100
    }
   },
   "source": [
    "### Шаг 3. Исследуйте данные и ответьте на вопросы"
   ]
  },
  {
   "cell_type": "markdown",
   "id": "1b34e4dd",
   "metadata": {
    "deletable": false,
    "editable": false,
    "id": "c5d66278",
    "panel-layout": {
     "height": 43.21875,
     "visible": true,
     "width": 100
    }
   },
   "source": [
    "#### 3.1 Есть ли зависимость между количеством детей и возвратом кредита в срок?"
   ]
  },
  {
   "cell_type": "code",
   "execution_count": 22,
   "id": "05f4f111",
   "metadata": {
    "deletable": false,
    "id": "2cacfc4a",
    "panel-layout": {
     "height": 249.5,
     "visible": true,
     "width": 100
    }
   },
   "outputs": [
    {
     "name": "stdout",
     "output_type": "stream",
     "text": [
      "\n",
      "0 random 1000: 6.5\n",
      "1 random 1000: 6.9\n"
     ]
    },
    {
     "data": {
      "text/html": [
       "<style type=\"text/css\">\n",
       "</style>\n",
       "<table id=\"T_8be2d\">\n",
       "  <thead>\n",
       "    <tr>\n",
       "      <th class=\"blank level0\" >&nbsp;</th>\n",
       "      <th id=\"T_8be2d_level0_col0\" class=\"col_heading level0 col0\" >count</th>\n",
       "      <th id=\"T_8be2d_level0_col1\" class=\"col_heading level0 col1\" >sum</th>\n",
       "      <th id=\"T_8be2d_level0_col2\" class=\"col_heading level0 col2\" >mean</th>\n",
       "    </tr>\n",
       "    <tr>\n",
       "      <th class=\"blank level1\" >&nbsp;</th>\n",
       "      <th id=\"T_8be2d_level1_col0\" class=\"col_heading level1 col0\" >debt</th>\n",
       "      <th id=\"T_8be2d_level1_col1\" class=\"col_heading level1 col1\" >debt</th>\n",
       "      <th id=\"T_8be2d_level1_col2\" class=\"col_heading level1 col2\" >debt</th>\n",
       "    </tr>\n",
       "    <tr>\n",
       "      <th class=\"index_name level0\" >children</th>\n",
       "      <th class=\"blank col0\" >&nbsp;</th>\n",
       "      <th class=\"blank col1\" >&nbsp;</th>\n",
       "      <th class=\"blank col2\" >&nbsp;</th>\n",
       "    </tr>\n",
       "  </thead>\n",
       "  <tbody>\n",
       "    <tr>\n",
       "      <th id=\"T_8be2d_level0_row0\" class=\"row_heading level0 row0\" >4</th>\n",
       "      <td id=\"T_8be2d_row0_col0\" class=\"data row0 col0\" >41</td>\n",
       "      <td id=\"T_8be2d_row0_col1\" class=\"data row0 col1\" >4</td>\n",
       "      <td id=\"T_8be2d_row0_col2\" class=\"data row0 col2\" >9.76%</td>\n",
       "    </tr>\n",
       "    <tr>\n",
       "      <th id=\"T_8be2d_level0_row1\" class=\"row_heading level0 row1\" >2</th>\n",
       "      <td id=\"T_8be2d_row1_col0\" class=\"data row1 col0\" >2052</td>\n",
       "      <td id=\"T_8be2d_row1_col1\" class=\"data row1 col1\" >194</td>\n",
       "      <td id=\"T_8be2d_row1_col2\" class=\"data row1 col2\" >9.45%</td>\n",
       "    </tr>\n",
       "    <tr>\n",
       "      <th id=\"T_8be2d_level0_row2\" class=\"row_heading level0 row2\" >1</th>\n",
       "      <td id=\"T_8be2d_row2_col0\" class=\"data row2 col0\" >4808</td>\n",
       "      <td id=\"T_8be2d_row2_col1\" class=\"data row2 col1\" >444</td>\n",
       "      <td id=\"T_8be2d_row2_col2\" class=\"data row2 col2\" >9.23%</td>\n",
       "    </tr>\n",
       "    <tr>\n",
       "      <th id=\"T_8be2d_level0_row3\" class=\"row_heading level0 row3\" >3</th>\n",
       "      <td id=\"T_8be2d_row3_col0\" class=\"data row3 col0\" >330</td>\n",
       "      <td id=\"T_8be2d_row3_col1\" class=\"data row3 col1\" >27</td>\n",
       "      <td id=\"T_8be2d_row3_col2\" class=\"data row3 col2\" >8.18%</td>\n",
       "    </tr>\n",
       "    <tr>\n",
       "      <th id=\"T_8be2d_level0_row4\" class=\"row_heading level0 row4\" >0</th>\n",
       "      <td id=\"T_8be2d_row4_col0\" class=\"data row4 col0\" >14091</td>\n",
       "      <td id=\"T_8be2d_row4_col1\" class=\"data row4 col1\" >1063</td>\n",
       "      <td id=\"T_8be2d_row4_col2\" class=\"data row4 col2\" >7.54%</td>\n",
       "    </tr>\n",
       "    <tr>\n",
       "      <th id=\"T_8be2d_level0_row5\" class=\"row_heading level0 row5\" >5</th>\n",
       "      <td id=\"T_8be2d_row5_col0\" class=\"data row5 col0\" >9</td>\n",
       "      <td id=\"T_8be2d_row5_col1\" class=\"data row5 col1\" >0</td>\n",
       "      <td id=\"T_8be2d_row5_col2\" class=\"data row5 col2\" >0.00%</td>\n",
       "    </tr>\n",
       "  </tbody>\n",
       "</table>\n"
      ],
      "text/plain": [
       "<pandas.io.formats.style.Styler at 0x13ee84740>"
      ]
     },
     "execution_count": 22,
     "metadata": {},
     "output_type": "execute_result"
    }
   ],
   "source": [
    "import random\n",
    "\n",
    "#data.columns\n",
    "\n",
    "\n",
    "'''\n",
    "Получение общих характеристик о задолженостях по категории 'дети'\n",
    "Составление соотношения кол-во должников к общему количеству пользователей\n",
    "'''\n",
    "'''\n",
    "contrast_sum = data.groupby('children')['debt'].sum()\n",
    "contrast_count = data.groupby('children')['debt'].count()\n",
    "print('sum', contrast_sum, '\\n')\n",
    "print('count:', contrast_count, '\\n')\n",
    "\n",
    "print('CONTRAST:', (contrast_sum / contrast_count) * 100)\n",
    "'''\n",
    "'''\n",
    "Дальше реструктуризируются данные по трем категориям: 0, 1, 2 детей\n",
    "'''\n",
    "\n",
    "data['children'].unique()\n",
    "\n",
    "child_0 = data[data['children'] == 0]['debt'].reset_index(drop=True)\n",
    "child_1 = data[data['children'] == 1]['debt'].reset_index(drop=True)\n",
    "child_2 = data[data['children'] == 2]['debt'].reset_index(drop=True)\n",
    "\n",
    "child_0_selection = child_0[::5].reset_index(drop=True)\n",
    "child_1_selection = child_1[::5].reset_index(drop=True)\n",
    "child_2_selection = child_2[::5].reset_index(drop=True)\n",
    "\n",
    "'''\n",
    "Выбираются первыве 330 строк, для проверки поведения значений на локальном промежутке\n",
    "'''\n",
    "'''\n",
    "print()\n",
    "\n",
    "print('0 selection:', (child_0_selection[0:330].sum() / child_0_selection[0:330].count()) * 100)\n",
    "print('1 selection:', (child_1_selection[0:330].sum() / child_1_selection[0:330].count()) * 100)\n",
    "print('2 selection:', (child_2_selection[0:330].sum() / child_2_selection[0:330].count()) * 100)\n",
    "\n",
    "print()\n",
    "'''\n",
    "'''\n",
    "Составляем выборку размером 330 элементов случайным образом\n",
    "'''\n",
    "\n",
    "#print(random.randrange(0, 14090, 50))\n",
    "r_0 = [random.randint(0, 13860) for _ in range(330)]\n",
    "r_1 = [random.randint(0, 4620) for _ in range(330)]\n",
    "r_2 = [random.randint(0, 1980) for _ in range(330)]\n",
    "#print(len(r_0), len(r_1), len(r_2)) #проверка, что элементов 330 штук\n",
    "\n",
    "child_0_random_array = child_0[r_0]\n",
    "child_1_random_array = child_0[r_1]\n",
    "child_2_random_array = child_0[r_2]\n",
    "\n",
    "#print('0 random 330:', (child_0_random_array.sum() / child_0_random_array.count()) * 100)\n",
    "#print('1 random 330:', (child_1_random_array.sum() / child_1_random_array.count()) * 100)\n",
    "#print('2 random 330:', (child_2_random_array.sum() / child_2_random_array.count()) * 100)\n",
    "\n",
    "'''\n",
    "Результаты замеров при 330:\n",
    "\n",
    "0 random: 9.696969696969697\n",
    "1 random: 7.575757575757576\n",
    "2 random: 3.939393939393939\n",
    "\n",
    "0 random: 6.666666666666667\n",
    "1 random: 6.666666666666667\n",
    "2 random: 6.0606060606060606\n",
    "\n",
    "0 random: 7.2727272727272725\n",
    "1 random: 5.454545454545454\n",
    "2 random: 4.848484848484849\n",
    "\n",
    "0 random: 7.878787878787878\n",
    "1 random: 7.2727272727272725\n",
    "2 random: 7.2727272727272725\n",
    "\n",
    "0 random: 8.484848484848486\n",
    "1 random: 6.0606060606060606\n",
    "2 random: 7.2727272727272725\n",
    "'''\n",
    "print()\n",
    "\n",
    "'''\n",
    "Сравнение '0' и '1' с 1000 элментами\n",
    "'''\n",
    "r_0 = [random.randint(0, 14000) for _ in range(1000)]\n",
    "r_1 = [random.randint(0, 4000) for _ in range(1000)]\n",
    "\n",
    "\n",
    "child_0_random_array_1000 = child_0[r_0]\n",
    "child_1_random_array_1000 = child_0[r_1]\n",
    "\n",
    "print('0 random 1000:', (child_0_random_array_1000.sum() / child_0_random_array_1000.count()) * 100)\n",
    "print('1 random 1000:', (child_1_random_array_1000.sum() / child_1_random_array_1000.count()) * 100)\n",
    "\n",
    "'''\n",
    "Результаты замеров при 1000:\n",
    "\n",
    "0 random: 8.0\n",
    "1 random: 6.7\n",
    "\n",
    "0 random: 7.3999999999999995\n",
    "1 random: 6.9\n",
    "\n",
    "0 random: 8.200000000000001\n",
    "1 random: 5.800000000000001\n",
    "\n",
    "0 random: 7.7\n",
    "1 random: 5.3\n",
    "\n",
    "0 random: 9.4\n",
    "1 random: 6.5\n",
    "\n",
    "0 random: 7.5\n",
    "1 random: 7.5\n",
    "'''\n",
    "\n",
    "data.pivot_table(index = 'children', values = 'debt', aggfunc = ['count', 'sum', 'mean'])\\\n",
    "    .sort_values(by = ('mean', 'debt'), ascending = False)\\\n",
    "    .style.format({('mean', 'debt') : '{:.2%}'})\n",
    "\n"
   ]
  },
  {
   "cell_type": "markdown",
   "id": "662447c6",
   "metadata": {
    "deletable": false,
    "id": "3a6b99ec",
    "panel-layout": {
     "height": 201.984375,
     "visible": true,
     "width": 100
    }
   },
   "source": [
    "**Вывод:** На первый взгляд кажется, что семьи без детей лучше возвращают долги, но размер данных, на основании которых деляется вывод чересчур различный. Например, семей без детей около 14 000, с одним ребенком - ~5 000, с двумя - ~2 000, с тремя - ~330, а где четверо и пятеро детей и вовсе меньше 50, что для какого-либо вывода неподходит (не релевантная выборка)\n",
    "\n",
    "Было решено уменьшить выборку до 330 элементов (кол-во записей с тремя детьми) и произвести сравнение между '0', '1', '2' и '3'\n",
    "\n",
    "Также решено было выбрать 1000 строк и произвести сравнение между '0', '1'\n",
    "\n",
    "Опасения в каком-то смысле подтвердились, результаты как бы скачут в своих зачениях, что дает некоторое основание утверждать об отсутсвии связи между кол-вом детей и своевременным возвратом средств\n",
    "\n",
    "Установить +- точную связь можно на более больших(кол-во) и примерно одинаковых по размерам(кол-во) данных"
   ]
  },
  {
   "cell_type": "markdown",
   "id": "dda74c63",
   "metadata": {
    "deletable": false,
    "editable": false,
    "id": "97be82ca",
    "panel-layout": {
     "height": 43.21875,
     "visible": true,
     "width": 100
    }
   },
   "source": [
    "#### 3.2 Есть ли зависимость между семейным положением и возвратом кредита в срок?"
   ]
  },
  {
   "cell_type": "code",
   "execution_count": 23,
   "id": "5294b42e",
   "metadata": {
    "deletable": false,
    "id": "dc3f7ee8",
    "panel-layout": {
     "height": 170,
     "visible": true,
     "width": 100
    }
   },
   "outputs": [
    {
     "name": "stdout",
     "output_type": "stream",
     "text": [
      "\n"
     ]
    },
    {
     "data": {
      "text/html": [
       "<style type=\"text/css\">\n",
       "</style>\n",
       "<table id=\"T_0b5b6\">\n",
       "  <thead>\n",
       "    <tr>\n",
       "      <th class=\"blank level0\" >&nbsp;</th>\n",
       "      <th id=\"T_0b5b6_level0_col0\" class=\"col_heading level0 col0\" >count</th>\n",
       "      <th id=\"T_0b5b6_level0_col1\" class=\"col_heading level0 col1\" >sum</th>\n",
       "      <th id=\"T_0b5b6_level0_col2\" class=\"col_heading level0 col2\" >mean</th>\n",
       "    </tr>\n",
       "    <tr>\n",
       "      <th class=\"blank level1\" >&nbsp;</th>\n",
       "      <th id=\"T_0b5b6_level1_col0\" class=\"col_heading level1 col0\" >debt</th>\n",
       "      <th id=\"T_0b5b6_level1_col1\" class=\"col_heading level1 col1\" >debt</th>\n",
       "      <th id=\"T_0b5b6_level1_col2\" class=\"col_heading level1 col2\" >debt</th>\n",
       "    </tr>\n",
       "    <tr>\n",
       "      <th class=\"index_name level0\" >new_family_status</th>\n",
       "      <th class=\"blank col0\" >&nbsp;</th>\n",
       "      <th class=\"blank col1\" >&nbsp;</th>\n",
       "      <th class=\"blank col2\" >&nbsp;</th>\n",
       "    </tr>\n",
       "  </thead>\n",
       "  <tbody>\n",
       "    <tr>\n",
       "      <th id=\"T_0b5b6_level0_row0\" class=\"row_heading level0 row0\" >broken_family</th>\n",
       "      <td id=\"T_0b5b6_row0_col0\" class=\"data row0 col0\" >1043</td>\n",
       "      <td id=\"T_0b5b6_row0_col1\" class=\"data row0 col1\" >102</td>\n",
       "      <td id=\"T_0b5b6_row0_col2\" class=\"data row0 col2\" >9.78%</td>\n",
       "    </tr>\n",
       "    <tr>\n",
       "      <th id=\"T_0b5b6_level0_row1\" class=\"row_heading level0 row1\" >single</th>\n",
       "      <td id=\"T_0b5b6_row1_col0\" class=\"data row1 col0\" >3893</td>\n",
       "      <td id=\"T_0b5b6_row1_col1\" class=\"data row1 col1\" >318</td>\n",
       "      <td id=\"T_0b5b6_row1_col2\" class=\"data row1 col2\" >8.17%</td>\n",
       "    </tr>\n",
       "    <tr>\n",
       "      <th id=\"T_0b5b6_level0_row2\" class=\"row_heading level0 row2\" >active_family</th>\n",
       "      <td id=\"T_0b5b6_row2_col0\" class=\"data row2 col0\" >16395</td>\n",
       "      <td id=\"T_0b5b6_row2_col1\" class=\"data row2 col1\" >1312</td>\n",
       "      <td id=\"T_0b5b6_row2_col2\" class=\"data row2 col2\" >8.00%</td>\n",
       "    </tr>\n",
       "  </tbody>\n",
       "</table>\n"
      ],
      "text/plain": [
       "<pandas.io.formats.style.Styler at 0x142e24e00>"
      ]
     },
     "execution_count": 23,
     "metadata": {},
     "output_type": "execute_result"
    }
   ],
   "source": [
    "#print(data.columns)\n",
    "\n",
    "\n",
    "'''\n",
    "Получение общих характеристик о задолженостях по категории 'дети'\n",
    "Составление соотношения кол-во должников к общему количеству пользователей\n",
    "'''\n",
    "contrast_sum = data.groupby('family_status')['debt'].sum()\n",
    "contrast_count = data.groupby('family_status')['debt'].count()\n",
    "#print('sum', contrast_sum, '\\n')\n",
    "#print('count:', contrast_count, '\\n')\n",
    "\n",
    "#print('CONTRAST:', (contrast_sum / contrast_count) * 100)\n",
    "print()\n",
    "\n",
    "\n",
    "#первая категория (1)\n",
    "active_family = data.loc[(data['family_status'] == 'женат / замужем') | (data['family_status'] == 'гражданский брак'), 'debt'].reset_index(drop=True)\n",
    "\n",
    "#вторая категория (2)\n",
    "broken_family = data.loc[((data['family_status'] == 'Не женат / не замужем') | (data['family_status'] == 'в разводе') | (data['family_status'] == 'вдовец / вдова')) & (data['children'] != 0), 'debt'].reset_index(drop=True)\n",
    "\n",
    "#третья категория (3)\n",
    "single = data.loc[((data['family_status'] == 'Не женат / не замужем') | (data['family_status'] == 'в разводе') | (data['family_status'] == 'вдовец / вдова')) & (data['children'] == 0), 'debt'].reset_index(drop=True)\n",
    "\n",
    "\n",
    "\n",
    "family_act = pd.DataFrame({'name': 'active_family', 'count': active_family.count(), 'sum': active_family.sum(), 'converse': ((active_family.sum() / active_family.count()) * 100)}, index=[0])\n",
    "#print(family_act)\n",
    "\n",
    "family_bro = pd.DataFrame({'name': 'broken_family', 'count': broken_family.count(), 'sum': broken_family.sum(), 'converse': ((broken_family.sum() / broken_family.count()) * 100)}, index=[0])\n",
    "#print(family_bro)\n",
    "\n",
    "family_sin = pd.DataFrame({'name': 'single', 'count': single.count(), 'sum': single.sum(), 'converse': ((single.sum() / single.count()) * 100)}, index=[0])\n",
    "#print(family_sin)\n",
    "\n",
    "result = pd.concat([family_act, family_bro, family_sin])\n",
    "result = result.reset_index(drop=True)\n",
    "\n",
    "### ВАРИАНТ ПРЕДЛОЖЕННЫЙ\n",
    "\n",
    "def plus_status(elem):\n",
    "    if (elem == 'женат / замужем') | (elem == 'гражданский брак'):\n",
    "        return 'active_family'\n",
    "    elif ((elem == 'Не женат / не замужем') | (elem == 'в разводе') | (elem == 'вдовец / вдова')):\n",
    "        return 'time_family'\n",
    "    else:\n",
    "        pass\n",
    "\n",
    "def dop_status(elem):\n",
    "    if elem != 0:\n",
    "        return 'broken_family'\n",
    "    else:\n",
    "        return 'single'\n",
    "\n",
    "data_new = data\n",
    "\n",
    "data_new['new_family_status'] = data_new['family_status'].apply(plus_status)\n",
    "#print('data_new 1:', data_new.info())\n",
    "\n",
    "data_new.loc[data_new['new_family_status'] == 'time_family', 'new_family_status'] = data_new.loc[data_new['new_family_status'] == 'time_family', 'children'].apply(dop_status)\n",
    "#print('data_new 2:', data_new.info())\n",
    "\n",
    "#первая категория (1)\n",
    "active_family = data.loc[(data['family_status'] == 'женат / замужем') | (data['family_status'] == 'гражданский брак'), 'debt'].reset_index(drop=True)\n",
    "\n",
    "#вторая категория (2)\n",
    "broken_family = data.loc[((data['family_status'] == 'Не женат / не замужем') | (data['family_status'] == 'в разводе') | (data['family_status'] == 'вдовец / вдова')) & (data['children'] != 0), 'debt'].reset_index(drop=True)\n",
    "\n",
    "#третья категория (3)\n",
    "single = data.loc[((data['family_status'] == 'Не женат / не замужем') | (data['family_status'] == 'в разводе') | (data['family_status'] == 'вдовец / вдова')) & (data['children'] == 0), 'debt'].reset_index(drop=True)\n",
    "\n",
    "result = pd.concat([active_family, broken_family, single], axis=1, keys=['active_family', 'broken_family', 'single'])\n",
    "#print(result)\n",
    "\n",
    "data_new.pivot_table(index = 'new_family_status', values = 'debt', aggfunc = ['count', 'sum', 'mean'])\\\n",
    "    .sort_values(by = ('mean', 'debt'), ascending = False)\\\n",
    "    .style.format({('mean', 'debt') : '{:.2%}'})\n",
    "\n",
    "\n"
   ]
  },
  {
   "cell_type": "markdown",
   "id": "f9aa2161",
   "metadata": {
    "deletable": false,
    "id": "1cef7837",
    "panel-layout": {
     "height": 484.8125,
     "visible": true,
     "width": 100
    }
   },
   "source": [
    "**Вывод:**\n",
    "Причина в дальнейших действиях заключается в 1) слишком малом наборе данных по некоторым категориям, 2) присутствует некоторая спутанность в категориях\n",
    "\n",
    "\n",
    "Статусы \"гражданский брак\" и \"женат / замужем\" - разумно объединить, \n",
    "т.к люди этой категории ведут совместное хозяйство и могут иметь детей.\n",
    "\n",
    "Проблемными являются \"Не женат / не замужем\", \"в разводе\", \"вдовец / вдова\" - \n",
    "- с одной стороны люди этих групп не ведут совместное хозяйство, \n",
    "но с дургой - все три могут иметь детей\n",
    "\n",
    "Из этого можно сделать вывод, что разумно было бы составить Три группы:\n",
    "1) Граждане ведущие совместное хозяйство - статусы \"гражданский брак\" и \"женат / замужем\" (действующая семья)\n",
    "2) Граждане, которые НЕ ведут совместное хозяйство, но имеют детей (распавшаяся семья)\n",
    "3) Граждане, которые НЕ ведут совместное хозяйство и НЕ имеют детей (холост)\n",
    "\n",
    "--- (2) и (3) относятся к \"Не женат / не замужем\", \"в разводе\", \"вдовец / вдова\", \n",
    "т.к люди, которые приписали себя к этим категориям фактически могут быть в другом статусе,\n",
    "например, разведенный мужчина мог указать \"Не женат / не замужем\",\n",
    "или вдова - \"Не женат / не замужем\"\n",
    "\n",
    "Т.е \"в разводе\", \"вдовец / вдова\" отчасти являются подкатегориями \"Не женат / не замужем\"\n",
    "\n",
    "\n",
    "\n",
    "По итогу эксперимента можем видеть, что особой разницы между людьми живующими в действующей семье и без неё - нет, кредит отдают примерно одинаково, \n",
    "Имеется различие в худшую сторну у, так называемых, 'сломаных семей' - граждане когда-либо бывшие в браке и имеющие какое-то количество детей. \n",
    "\n",
    "Вероятная причина таких результатов в наличии отягчяющих условиях относительно полных семей и людей живущих без семьи - это ведение хозяйственной деятельности в одиночку и наличие ребенка (дополнительная экономическая нагрузка)\n",
    "\n"
   ]
  },
  {
   "cell_type": "markdown",
   "id": "e85692e2",
   "metadata": {
    "deletable": false,
    "editable": false,
    "id": "1e8b2fca",
    "panel-layout": {
     "height": 43.21875,
     "visible": true,
     "width": 100
    }
   },
   "source": [
    "#### 3.3 Есть ли зависимость между уровнем дохода и возвратом кредита в срок?"
   ]
  },
  {
   "cell_type": "code",
   "execution_count": 24,
   "id": "859fef52",
   "metadata": {
    "deletable": false,
    "id": "cd7e3720",
    "panel-layout": {
     "height": 223,
     "visible": true,
     "width": 100
    }
   },
   "outputs": [
    {
     "name": "stdout",
     "output_type": "stream",
     "text": [
      "max: 2265604\n",
      "min: 20667\n",
      "mean: 165342.74576906848\n",
      "median: 142594.0\n",
      "\n",
      "        0–30000 — 'E', \n",
      "        30001–50000 — 'D', \n",
      "        50001–200000 — 'C', \n",
      "        200001–1000000 — 'B', \n",
      "        1000001 и выше — 'A'.\n"
     ]
    },
    {
     "data": {
      "text/html": [
       "<style type=\"text/css\">\n",
       "</style>\n",
       "<table id=\"T_e0ef1\">\n",
       "  <thead>\n",
       "    <tr>\n",
       "      <th class=\"blank level0\" >&nbsp;</th>\n",
       "      <th id=\"T_e0ef1_level0_col0\" class=\"col_heading level0 col0\" >count</th>\n",
       "      <th id=\"T_e0ef1_level0_col1\" class=\"col_heading level0 col1\" >sum</th>\n",
       "      <th id=\"T_e0ef1_level0_col2\" class=\"col_heading level0 col2\" >mean</th>\n",
       "    </tr>\n",
       "    <tr>\n",
       "      <th class=\"blank level1\" >&nbsp;</th>\n",
       "      <th id=\"T_e0ef1_level1_col0\" class=\"col_heading level1 col0\" >debt</th>\n",
       "      <th id=\"T_e0ef1_level1_col1\" class=\"col_heading level1 col1\" >debt</th>\n",
       "      <th id=\"T_e0ef1_level1_col2\" class=\"col_heading level1 col2\" >debt</th>\n",
       "    </tr>\n",
       "    <tr>\n",
       "      <th class=\"index_name level0\" >total_income_category</th>\n",
       "      <th class=\"blank col0\" >&nbsp;</th>\n",
       "      <th class=\"blank col1\" >&nbsp;</th>\n",
       "      <th class=\"blank col2\" >&nbsp;</th>\n",
       "    </tr>\n",
       "  </thead>\n",
       "  <tbody>\n",
       "    <tr>\n",
       "      <th id=\"T_e0ef1_level0_row0\" class=\"row_heading level0 row0\" >E</th>\n",
       "      <td id=\"T_e0ef1_row0_col0\" class=\"data row0 col0\" >22</td>\n",
       "      <td id=\"T_e0ef1_row0_col1\" class=\"data row0 col1\" >2</td>\n",
       "      <td id=\"T_e0ef1_row0_col2\" class=\"data row0 col2\" >9.09%</td>\n",
       "    </tr>\n",
       "    <tr>\n",
       "      <th id=\"T_e0ef1_level0_row1\" class=\"row_heading level0 row1\" >C</th>\n",
       "      <td id=\"T_e0ef1_row1_col0\" class=\"data row1 col0\" >15921</td>\n",
       "      <td id=\"T_e0ef1_row1_col1\" class=\"data row1 col1\" >1353</td>\n",
       "      <td id=\"T_e0ef1_row1_col2\" class=\"data row1 col2\" >8.50%</td>\n",
       "    </tr>\n",
       "    <tr>\n",
       "      <th id=\"T_e0ef1_level0_row2\" class=\"row_heading level0 row2\" >A</th>\n",
       "      <td id=\"T_e0ef1_row2_col0\" class=\"data row2 col0\" >25</td>\n",
       "      <td id=\"T_e0ef1_row2_col1\" class=\"data row2 col1\" >2</td>\n",
       "      <td id=\"T_e0ef1_row2_col2\" class=\"data row2 col2\" >8.00%</td>\n",
       "    </tr>\n",
       "    <tr>\n",
       "      <th id=\"T_e0ef1_level0_row3\" class=\"row_heading level0 row3\" >B</th>\n",
       "      <td id=\"T_e0ef1_row3_col0\" class=\"data row3 col0\" >5014</td>\n",
       "      <td id=\"T_e0ef1_row3_col1\" class=\"data row3 col1\" >354</td>\n",
       "      <td id=\"T_e0ef1_row3_col2\" class=\"data row3 col2\" >7.06%</td>\n",
       "    </tr>\n",
       "    <tr>\n",
       "      <th id=\"T_e0ef1_level0_row4\" class=\"row_heading level0 row4\" >D</th>\n",
       "      <td id=\"T_e0ef1_row4_col0\" class=\"data row4 col0\" >349</td>\n",
       "      <td id=\"T_e0ef1_row4_col1\" class=\"data row4 col1\" >21</td>\n",
       "      <td id=\"T_e0ef1_row4_col2\" class=\"data row4 col2\" >6.02%</td>\n",
       "    </tr>\n",
       "  </tbody>\n",
       "</table>\n"
      ],
      "text/plain": [
       "<pandas.io.formats.style.Styler at 0x143a1ee70>"
      ]
     },
     "execution_count": 24,
     "metadata": {},
     "output_type": "execute_result"
    }
   ],
   "source": [
    "print('max:', data['total_income'].max())\n",
    "print('min:', data['total_income'].min())\n",
    "print('mean:', data['total_income'].mean())\n",
    "print('median:', data['total_income'].median())\n",
    "\n",
    "total = data.groupby('total_income_category')['debt']\n",
    "#total['sum'] = total.sum()\n",
    "total_res = pd.DataFrame({'count': total.count(), 'sum': total.sum(), 'converse': (total.sum() / total.count()) * 100})\n",
    "#print(total_res)\n",
    "\n",
    "\n",
    "\n",
    "print(\"\"\"\n",
    "        0–30000 — 'E', \n",
    "        30001–50000 — 'D', \n",
    "        50001–200000 — 'C', \n",
    "        200001–1000000 — 'B', \n",
    "        1000001 и выше — 'A'.\"\"\")\n",
    "\n",
    "#total_res\n",
    "\n",
    "data.pivot_table(index = 'total_income_category', values = 'debt', aggfunc = ['count', 'sum', 'mean'])\\\n",
    "    .sort_values(by = ('mean', 'debt'), ascending = False)\\\n",
    "    .style.format({('mean', 'debt') : '{:.2%}'})\n",
    "\n"
   ]
  },
  {
   "cell_type": "markdown",
   "id": "ce8dd17f",
   "metadata": {
    "deletable": false,
    "id": "e8593def",
    "panel-layout": {
     "height": 189.984375,
     "visible": true,
     "width": 100
    }
   },
   "source": [
    "**Вывод:** \n",
    "\n",
    "Группы граждан 'А' и 'Е' представленные в слишком малом кол-ве. И это отчасти понятно - группа 'А' доходы свыше 1 млн, группа 'Е' доходы меньше 30 тыс - представителям этих двух групп кредит нужен редко или вовсе недоступен (мало свободных средств). Но несмотря на это судить по столь малому количеству данных об этих группах нельзя.\n",
    "\n",
    "Аналогичная ситуация с группой 'С' - маловато данных и это эта группа, у кого свободных средств может быть недостаточно.\n",
    "\n",
    "Что касаемо остальных групп - достаточно хорошо представленны 'В' и 'С'. \n",
    "'B' = [200 тыс – 1 млн] - это группа возвращает кредитные средства лучше, чем категория 'C'.\n",
    "'С' = [50 тыс – 200 тыс] - это группа среднего дохода, возвращает кредит хуже, чем 'B'\\\n",
    "\n"
   ]
  },
  {
   "cell_type": "markdown",
   "id": "6bc8c613",
   "metadata": {
    "deletable": false,
    "editable": false,
    "id": "99ecbd1f",
    "panel-layout": {
     "height": 43.21875,
     "visible": true,
     "width": 100
    }
   },
   "source": [
    "#### 3.4 Как разные цели кредита влияют на его возврат в срок?"
   ]
  },
  {
   "cell_type": "code",
   "execution_count": 25,
   "id": "98b63261",
   "metadata": {
    "deletable": false,
    "id": "2b687290",
    "panel-layout": {
     "height": 198.5,
     "visible": true,
     "width": 100
    }
   },
   "outputs": [
    {
     "data": {
      "text/html": [
       "<style type=\"text/css\">\n",
       "</style>\n",
       "<table id=\"T_a9b4e\">\n",
       "  <thead>\n",
       "    <tr>\n",
       "      <th class=\"blank level0\" >&nbsp;</th>\n",
       "      <th id=\"T_a9b4e_level0_col0\" class=\"col_heading level0 col0\" >count</th>\n",
       "      <th id=\"T_a9b4e_level0_col1\" class=\"col_heading level0 col1\" >sum</th>\n",
       "      <th id=\"T_a9b4e_level0_col2\" class=\"col_heading level0 col2\" >mean</th>\n",
       "    </tr>\n",
       "    <tr>\n",
       "      <th class=\"blank level1\" >&nbsp;</th>\n",
       "      <th id=\"T_a9b4e_level1_col0\" class=\"col_heading level1 col0\" >debt</th>\n",
       "      <th id=\"T_a9b4e_level1_col1\" class=\"col_heading level1 col1\" >debt</th>\n",
       "      <th id=\"T_a9b4e_level1_col2\" class=\"col_heading level1 col2\" >debt</th>\n",
       "    </tr>\n",
       "    <tr>\n",
       "      <th class=\"index_name level0\" >purpose_category</th>\n",
       "      <th class=\"blank col0\" >&nbsp;</th>\n",
       "      <th class=\"blank col1\" >&nbsp;</th>\n",
       "      <th class=\"blank col2\" >&nbsp;</th>\n",
       "    </tr>\n",
       "  </thead>\n",
       "  <tbody>\n",
       "    <tr>\n",
       "      <th id=\"T_a9b4e_level0_row0\" class=\"row_heading level0 row0\" >операции с автомобилем</th>\n",
       "      <td id=\"T_a9b4e_row0_col0\" class=\"data row0 col0\" >4279</td>\n",
       "      <td id=\"T_a9b4e_row0_col1\" class=\"data row0 col1\" >400</td>\n",
       "      <td id=\"T_a9b4e_row0_col2\" class=\"data row0 col2\" >9.35%</td>\n",
       "    </tr>\n",
       "    <tr>\n",
       "      <th id=\"T_a9b4e_level0_row1\" class=\"row_heading level0 row1\" >получение образования</th>\n",
       "      <td id=\"T_a9b4e_row1_col0\" class=\"data row1 col0\" >3988</td>\n",
       "      <td id=\"T_a9b4e_row1_col1\" class=\"data row1 col1\" >369</td>\n",
       "      <td id=\"T_a9b4e_row1_col2\" class=\"data row1 col2\" >9.25%</td>\n",
       "    </tr>\n",
       "    <tr>\n",
       "      <th id=\"T_a9b4e_level0_row2\" class=\"row_heading level0 row2\" >проведение свадьбы</th>\n",
       "      <td id=\"T_a9b4e_row2_col0\" class=\"data row2 col0\" >2313</td>\n",
       "      <td id=\"T_a9b4e_row2_col1\" class=\"data row2 col1\" >183</td>\n",
       "      <td id=\"T_a9b4e_row2_col2\" class=\"data row2 col2\" >7.91%</td>\n",
       "    </tr>\n",
       "    <tr>\n",
       "      <th id=\"T_a9b4e_level0_row3\" class=\"row_heading level0 row3\" >операции с недвижимостью</th>\n",
       "      <td id=\"T_a9b4e_row3_col0\" class=\"data row3 col0\" >10751</td>\n",
       "      <td id=\"T_a9b4e_row3_col1\" class=\"data row3 col1\" >780</td>\n",
       "      <td id=\"T_a9b4e_row3_col2\" class=\"data row3 col2\" >7.26%</td>\n",
       "    </tr>\n",
       "  </tbody>\n",
       "</table>\n"
      ],
      "text/plain": [
       "<pandas.io.formats.style.Styler at 0x13f1db0e0>"
      ]
     },
     "execution_count": 25,
     "metadata": {},
     "output_type": "execute_result"
    }
   ],
   "source": [
    "purpose_category = data.groupby('purpose_category')['debt']\n",
    "\n",
    "#res_purpose_category = pd.DataFrame({''})\n",
    "#print(purpose_category.count())\n",
    "#print(purpose_category.sum())\n",
    "#print((purpose_category.sum() / purpose_category.count()) * 100)\n",
    "\n",
    "data.pivot_table(index = 'purpose_category', values = 'debt', aggfunc = ['count', 'sum', 'mean'])\\\n",
    "    .sort_values(by = ('mean', 'debt'), ascending = False)\\\n",
    "    .style.format({('mean', 'debt') : '{:.2%}'})"
   ]
  },
  {
   "cell_type": "markdown",
   "id": "32ecaf64",
   "metadata": {
    "deletable": false,
    "id": "b4bb2ce6",
    "panel-layout": {
     "height": 148.84375,
     "visible": true,
     "width": 100
    }
   },
   "source": [
    "**Вывод:** \n",
    "Кол-во данных вполне хорошее,\n",
    "Разница заметна, хуже всего дела обстоят с 'операции с автомобилем' и 'получение образования' - в моменте с образовнием влияет необходимость выделять время на учебу, уменьшая часы работы, что приводит к снижению зп, что в свою очередь уменьшает запас прочности в случае форс-мажора. \n",
    "\n",
    "Насчет автомобиля - товар, который требует постоянного обслуживания, т.к является движимым - есть риск транспортного происшествия, которое может создавать для гражданина высокую непредсказанную финансовую нагрузку\n",
    "\n"
   ]
  },
  {
   "attachments": {},
   "cell_type": "markdown",
   "id": "eec27c98-fcb3-46e8-b298-1ce6dd845ada",
   "metadata": {
    "deletable": false,
    "editable": false,
    "id": "09c3ac4c"
   },
   "source": [
    "#### 3.5 Приведите возможные причины появления пропусков в исходных данных.\n",
    "\n",
    "\n",
    "\n",
    "\n",
    "\n",
    "#### 3.6 Объясните, почему заполнить пропуски медианным значением — лучшее решение для количественных переменных.\n",
    "\n"
   ]
  },
  {
   "cell_type": "markdown",
   "id": "f2974b53",
   "metadata": {
    "deletable": false,
    "editable": false,
    "id": "6db5255a",
    "panel-layout": {
     "height": 44.0859375,
     "visible": true,
     "width": 100
    }
   },
   "source": [
    "### Шаг 4: общий вывод."
   ]
  },
  {
   "cell_type": "markdown",
   "id": "44fae579",
   "metadata": {
    "deletable": false,
    "id": "bad65432",
    "panel-layout": {
     "height": 357.96875,
     "visible": true,
     "width": 100
    }
   },
   "source": [
    "*Вывод:*\n",
    "\n",
    "При обработке данных были устранены различные пропуски в значениях,\n",
    "Были добавлены столбцы оптимизирующие и конкретизирующие некоторые характеристики (уровень дохода, цели займа)\n",
    "\n",
    "При исследвании были выявленны следующие зависимости:\n",
    "от семейного положения,\n",
    "от уровня дохода,\n",
    "от целей займа\n",
    "\n",
    "Люди без семьи(определялась группа по отсутствию детей и какого-либо брака) или же в ПОЛНОЙ семье (в браке) возвращают кредит лучше (~8%), чем люди, которые имеют детей и при этом не состоят в каком-либо браке - группа разведенных, вдовствующих и в целом вне брака людей с детьми (~10%)\n",
    "\n",
    "Наилучшими заемщиками являются граждане получающие от 200 тыс до 1 млн (~7%), следующие за ними чьи доходы от 50 тыс до 200 тыс (~8.5%)\n",
    "\n",
    "Стабильней всего отдается кредит за недвижимость (~7.3%), чуть хуже на категорию связанную со свадьбой (~8%), существенно хуже на образование и автомобиль (почти 10% заемщиков получают просрочки)\n",
    "\n",
    "\n",
    "Наилучший заемщик человек или из полной семьи (т.е в браке), или без семьи (но тогда без детей), с доходом от 200 тыс до 1 млн, берущий займ на приобретение жилья\n",
    "\n",
    "Худший - это с n-ым кол-вом детей вне брака (развод, смерть супруга и т.д), берущий займ на приобретение автомобиля"
   ]
  },
  {
   "cell_type": "code",
   "execution_count": null,
   "id": "21d72e7a-623b-48d2-ab80-53655cee068a",
   "metadata": {},
   "outputs": [],
   "source": []
  }
 ],
 "metadata": {
  "ExecuteTimeLog": [
   {
    "duration": 431,
    "start_time": "2025-03-22T04:03:09.177Z"
   },
   {
    "duration": 23,
    "start_time": "2025-03-22T04:03:09.610Z"
   },
   {
    "duration": 29,
    "start_time": "2025-03-22T04:03:09.635Z"
   },
   {
    "duration": 11,
    "start_time": "2025-03-22T04:03:09.666Z"
   },
   {
    "duration": 35,
    "start_time": "2025-03-22T04:03:09.679Z"
   },
   {
    "duration": 4,
    "start_time": "2025-03-22T04:03:09.715Z"
   },
   {
    "duration": 8,
    "start_time": "2025-03-22T04:03:09.730Z"
   },
   {
    "duration": 4,
    "start_time": "2025-03-22T04:03:09.740Z"
   },
   {
    "duration": 7,
    "start_time": "2025-03-22T04:03:09.745Z"
   },
   {
    "duration": 5,
    "start_time": "2025-03-22T04:03:09.754Z"
   },
   {
    "duration": 36,
    "start_time": "2025-03-22T04:03:09.760Z"
   },
   {
    "duration": 42,
    "start_time": "2025-03-22T04:03:09.797Z"
   },
   {
    "duration": 10,
    "start_time": "2025-03-22T04:03:09.841Z"
   },
   {
    "duration": 12,
    "start_time": "2025-03-22T04:03:09.854Z"
   },
   {
    "duration": 24,
    "start_time": "2025-03-22T04:03:09.867Z"
   },
   {
    "duration": 17,
    "start_time": "2025-03-22T04:03:09.893Z"
   },
   {
    "duration": 20,
    "start_time": "2025-03-22T04:03:09.912Z"
   },
   {
    "duration": 37,
    "start_time": "2025-03-22T04:03:09.934Z"
   },
   {
    "duration": 7,
    "start_time": "2025-03-22T04:03:09.973Z"
   },
   {
    "duration": 5,
    "start_time": "2025-03-22T04:03:09.982Z"
   },
   {
    "duration": 10,
    "start_time": "2025-03-22T04:03:09.988Z"
   },
   {
    "duration": 2,
    "start_time": "2025-03-22T04:03:09.999Z"
   },
   {
    "duration": 3,
    "start_time": "2025-03-22T04:03:10.003Z"
   },
   {
    "duration": 6,
    "start_time": "2025-03-22T04:03:10.007Z"
   },
   {
    "duration": 16,
    "start_time": "2025-03-22T04:03:10.014Z"
   },
   {
    "duration": 453,
    "start_time": "2025-03-22T04:03:38.463Z"
   },
   {
    "duration": 24,
    "start_time": "2025-03-22T04:03:38.918Z"
   },
   {
    "duration": 16,
    "start_time": "2025-03-22T04:03:38.944Z"
   },
   {
    "duration": 10,
    "start_time": "2025-03-22T04:03:38.962Z"
   },
   {
    "duration": 36,
    "start_time": "2025-03-22T04:03:38.974Z"
   },
   {
    "duration": 4,
    "start_time": "2025-03-22T04:03:39.029Z"
   },
   {
    "duration": 22,
    "start_time": "2025-03-22T04:03:39.034Z"
   },
   {
    "duration": 4,
    "start_time": "2025-03-22T04:03:39.058Z"
   },
   {
    "duration": 8,
    "start_time": "2025-03-22T04:03:39.063Z"
   },
   {
    "duration": 8,
    "start_time": "2025-03-22T04:03:39.073Z"
   },
   {
    "duration": 48,
    "start_time": "2025-03-22T04:03:39.082Z"
   },
   {
    "duration": 11,
    "start_time": "2025-03-22T04:03:39.131Z"
   },
   {
    "duration": 5,
    "start_time": "2025-03-22T04:03:39.144Z"
   },
   {
    "duration": 12,
    "start_time": "2025-03-22T04:03:39.150Z"
   },
   {
    "duration": 24,
    "start_time": "2025-03-22T04:03:39.164Z"
   },
   {
    "duration": 40,
    "start_time": "2025-03-22T04:03:39.190Z"
   },
   {
    "duration": 3,
    "start_time": "2025-03-22T04:03:39.232Z"
   },
   {
    "duration": 12,
    "start_time": "2025-03-22T04:03:39.237Z"
   },
   {
    "duration": 6,
    "start_time": "2025-03-22T04:03:39.250Z"
   },
   {
    "duration": 22,
    "start_time": "2025-03-22T04:03:39.258Z"
   },
   {
    "duration": 16,
    "start_time": "2025-03-22T04:03:39.282Z"
   },
   {
    "duration": 10,
    "start_time": "2025-03-22T04:03:39.299Z"
   },
   {
    "duration": 4,
    "start_time": "2025-03-22T04:03:39.310Z"
   },
   {
    "duration": 5,
    "start_time": "2025-03-22T04:03:39.316Z"
   },
   {
    "duration": 4,
    "start_time": "2025-03-22T04:03:39.322Z"
   },
   {
    "duration": 481,
    "start_time": "2025-03-22T04:04:03.757Z"
   },
   {
    "duration": 23,
    "start_time": "2025-03-22T04:04:04.240Z"
   },
   {
    "duration": 19,
    "start_time": "2025-03-22T04:04:04.264Z"
   },
   {
    "duration": 13,
    "start_time": "2025-03-22T04:04:04.285Z"
   },
   {
    "duration": 60,
    "start_time": "2025-03-22T04:04:04.299Z"
   },
   {
    "duration": 3,
    "start_time": "2025-03-22T04:04:04.361Z"
   },
   {
    "duration": 17,
    "start_time": "2025-03-22T04:04:04.366Z"
   },
   {
    "duration": 21,
    "start_time": "2025-03-22T04:04:04.385Z"
   },
   {
    "duration": 12,
    "start_time": "2025-03-22T04:04:04.408Z"
   },
   {
    "duration": 15,
    "start_time": "2025-03-22T04:04:04.422Z"
   },
   {
    "duration": 53,
    "start_time": "2025-03-22T04:04:04.438Z"
   },
   {
    "duration": 16,
    "start_time": "2025-03-22T04:04:04.493Z"
   },
   {
    "duration": 24,
    "start_time": "2025-03-22T04:04:04.511Z"
   },
   {
    "duration": 12,
    "start_time": "2025-03-22T04:04:04.537Z"
   },
   {
    "duration": 24,
    "start_time": "2025-03-22T04:04:04.551Z"
   },
   {
    "duration": 70,
    "start_time": "2025-03-22T04:04:04.577Z"
   },
   {
    "duration": 4,
    "start_time": "2025-03-22T04:04:04.649Z"
   },
   {
    "duration": 121,
    "start_time": "2025-03-22T04:04:04.654Z"
   },
   {
    "duration": 11,
    "start_time": "2025-03-22T04:04:04.777Z"
   },
   {
    "duration": 9,
    "start_time": "2025-03-22T04:04:04.790Z"
   },
   {
    "duration": 15,
    "start_time": "2025-03-22T04:04:04.800Z"
   },
   {
    "duration": 3,
    "start_time": "2025-03-22T04:04:04.817Z"
   },
   {
    "duration": 26,
    "start_time": "2025-03-22T04:04:04.821Z"
   },
   {
    "duration": 8,
    "start_time": "2025-03-22T04:04:04.849Z"
   },
   {
    "duration": 4,
    "start_time": "2025-03-22T04:04:04.858Z"
   },
   {
    "duration": 4,
    "start_time": "2025-03-22T04:04:41.891Z"
   },
   {
    "duration": 3,
    "start_time": "2025-03-22T04:11:59.624Z"
   },
   {
    "duration": 6,
    "start_time": "2025-03-22T04:12:26.448Z"
   },
   {
    "duration": 6,
    "start_time": "2025-03-22T04:12:34.150Z"
   },
   {
    "duration": 8,
    "start_time": "2025-03-22T04:14:02.498Z"
   },
   {
    "duration": 11,
    "start_time": "2025-03-22T04:14:31.877Z"
   },
   {
    "duration": 14,
    "start_time": "2025-03-22T04:27:01.063Z"
   },
   {
    "duration": 13,
    "start_time": "2025-03-22T04:34:13.925Z"
   },
   {
    "duration": 10,
    "start_time": "2025-03-22T04:34:22.169Z"
   },
   {
    "duration": 21,
    "start_time": "2025-03-22T04:36:10.690Z"
   },
   {
    "duration": 1247,
    "start_time": "2025-03-22T04:36:32.658Z"
   },
   {
    "duration": 12,
    "start_time": "2025-03-22T04:36:55.405Z"
   },
   {
    "duration": 13,
    "start_time": "2025-03-22T04:37:50.885Z"
   },
   {
    "duration": 13,
    "start_time": "2025-03-22T04:40:57.565Z"
   },
   {
    "duration": 18,
    "start_time": "2025-03-22T04:43:39.421Z"
   },
   {
    "duration": 22,
    "start_time": "2025-03-22T04:44:21.832Z"
   },
   {
    "duration": 21,
    "start_time": "2025-03-22T04:44:39.129Z"
   },
   {
    "duration": 15,
    "start_time": "2025-03-22T04:48:06.680Z"
   },
   {
    "duration": 26,
    "start_time": "2025-03-22T04:49:41.004Z"
   },
   {
    "duration": 22,
    "start_time": "2025-03-22T04:55:45.002Z"
   },
   {
    "duration": 29,
    "start_time": "2025-03-22T04:58:06.074Z"
   },
   {
    "duration": 7,
    "start_time": "2025-03-22T04:58:55.190Z"
   },
   {
    "duration": 33,
    "start_time": "2025-03-22T04:59:19.870Z"
   },
   {
    "duration": 26,
    "start_time": "2025-03-22T05:06:10.363Z"
   },
   {
    "duration": 35,
    "start_time": "2025-03-22T05:06:34.032Z"
   },
   {
    "duration": 27,
    "start_time": "2025-03-22T05:06:51.598Z"
   },
   {
    "duration": 44,
    "start_time": "2025-03-22T05:10:44.959Z"
   },
   {
    "duration": 33,
    "start_time": "2025-03-22T05:11:27.152Z"
   },
   {
    "duration": 464,
    "start_time": "2025-03-22T13:09:53.717Z"
   },
   {
    "duration": 21,
    "start_time": "2025-03-22T13:09:54.183Z"
   },
   {
    "duration": 16,
    "start_time": "2025-03-22T13:09:54.205Z"
   },
   {
    "duration": 36,
    "start_time": "2025-03-22T13:09:54.222Z"
   },
   {
    "duration": 42,
    "start_time": "2025-03-22T13:09:54.261Z"
   },
   {
    "duration": 3,
    "start_time": "2025-03-22T13:09:54.304Z"
   },
   {
    "duration": 24,
    "start_time": "2025-03-22T13:09:54.309Z"
   },
   {
    "duration": 6,
    "start_time": "2025-03-22T13:09:54.335Z"
   },
   {
    "duration": 33,
    "start_time": "2025-03-22T13:09:54.342Z"
   },
   {
    "duration": 4,
    "start_time": "2025-03-22T13:09:54.377Z"
   },
   {
    "duration": 46,
    "start_time": "2025-03-22T13:09:54.383Z"
   },
   {
    "duration": 11,
    "start_time": "2025-03-22T13:09:54.431Z"
   },
   {
    "duration": 61,
    "start_time": "2025-03-22T13:09:54.443Z"
   },
   {
    "duration": 31,
    "start_time": "2025-03-22T13:09:54.506Z"
   },
   {
    "duration": 77,
    "start_time": "2025-03-22T13:09:54.538Z"
   },
   {
    "duration": 18,
    "start_time": "2025-03-22T13:09:54.616Z"
   },
   {
    "duration": 4,
    "start_time": "2025-03-22T13:09:54.635Z"
   },
   {
    "duration": 18,
    "start_time": "2025-03-22T13:09:54.641Z"
   },
   {
    "duration": 7,
    "start_time": "2025-03-22T13:09:54.661Z"
   },
   {
    "duration": 3,
    "start_time": "2025-03-22T13:09:54.670Z"
   },
   {
    "duration": 17,
    "start_time": "2025-03-22T13:09:54.675Z"
   },
   {
    "duration": 103,
    "start_time": "2025-03-22T13:09:54.694Z"
   },
   {
    "duration": 0,
    "start_time": "2025-03-22T13:09:54.799Z"
   },
   {
    "duration": 0,
    "start_time": "2025-03-22T13:09:54.800Z"
   },
   {
    "duration": 0,
    "start_time": "2025-03-22T13:09:54.802Z"
   },
   {
    "duration": 32,
    "start_time": "2025-03-22T13:28:26.708Z"
   },
   {
    "duration": 21,
    "start_time": "2025-03-22T13:40:07.505Z"
   },
   {
    "duration": 20,
    "start_time": "2025-03-22T13:41:10.715Z"
   },
   {
    "duration": 19,
    "start_time": "2025-03-22T13:41:48.254Z"
   },
   {
    "duration": 17,
    "start_time": "2025-03-22T13:42:10.532Z"
   },
   {
    "duration": 16,
    "start_time": "2025-03-22T13:43:22.584Z"
   },
   {
    "duration": 16,
    "start_time": "2025-03-22T13:43:34.015Z"
   },
   {
    "duration": 15,
    "start_time": "2025-03-22T13:43:42.518Z"
   },
   {
    "duration": 22,
    "start_time": "2025-03-22T13:44:08.327Z"
   },
   {
    "duration": 8,
    "start_time": "2025-03-22T13:49:24.492Z"
   },
   {
    "duration": 24,
    "start_time": "2025-03-22T13:49:33.365Z"
   },
   {
    "duration": 23,
    "start_time": "2025-03-22T13:50:05.620Z"
   },
   {
    "duration": 23,
    "start_time": "2025-03-22T14:21:45.613Z"
   },
   {
    "duration": 24,
    "start_time": "2025-03-22T14:22:14.264Z"
   },
   {
    "duration": 27,
    "start_time": "2025-03-22T14:22:24.108Z"
   },
   {
    "duration": 25,
    "start_time": "2025-03-22T14:22:33.711Z"
   },
   {
    "duration": 27,
    "start_time": "2025-03-22T14:23:31.376Z"
   },
   {
    "duration": 27,
    "start_time": "2025-03-22T14:23:54.752Z"
   },
   {
    "duration": 436,
    "start_time": "2025-03-22T17:00:47.819Z"
   },
   {
    "duration": 22,
    "start_time": "2025-03-22T17:00:48.257Z"
   },
   {
    "duration": 15,
    "start_time": "2025-03-22T17:00:48.281Z"
   },
   {
    "duration": 11,
    "start_time": "2025-03-22T17:00:48.298Z"
   },
   {
    "duration": 45,
    "start_time": "2025-03-22T17:00:48.310Z"
   },
   {
    "duration": 3,
    "start_time": "2025-03-22T17:00:48.357Z"
   },
   {
    "duration": 8,
    "start_time": "2025-03-22T17:00:48.374Z"
   },
   {
    "duration": 4,
    "start_time": "2025-03-22T17:00:48.383Z"
   },
   {
    "duration": 6,
    "start_time": "2025-03-22T17:00:48.389Z"
   },
   {
    "duration": 3,
    "start_time": "2025-03-22T17:00:48.399Z"
   },
   {
    "duration": 36,
    "start_time": "2025-03-22T17:00:48.403Z"
   },
   {
    "duration": 41,
    "start_time": "2025-03-22T17:00:48.440Z"
   },
   {
    "duration": 4,
    "start_time": "2025-03-22T17:00:48.483Z"
   },
   {
    "duration": 12,
    "start_time": "2025-03-22T17:00:48.488Z"
   },
   {
    "duration": 19,
    "start_time": "2025-03-22T17:00:48.501Z"
   },
   {
    "duration": 16,
    "start_time": "2025-03-22T17:00:48.522Z"
   },
   {
    "duration": 34,
    "start_time": "2025-03-22T17:00:48.539Z"
   },
   {
    "duration": 13,
    "start_time": "2025-03-22T17:00:48.575Z"
   },
   {
    "duration": 6,
    "start_time": "2025-03-22T17:00:48.589Z"
   },
   {
    "duration": 3,
    "start_time": "2025-03-22T17:00:48.596Z"
   },
   {
    "duration": 28,
    "start_time": "2025-03-22T17:00:48.600Z"
   },
   {
    "duration": 30,
    "start_time": "2025-03-22T17:00:48.629Z"
   },
   {
    "duration": 2,
    "start_time": "2025-03-22T17:00:48.661Z"
   },
   {
    "duration": 10,
    "start_time": "2025-03-22T17:00:48.664Z"
   },
   {
    "duration": 4,
    "start_time": "2025-03-22T17:00:48.676Z"
   },
   {
    "duration": 27,
    "start_time": "2025-03-22T17:01:11.079Z"
   },
   {
    "duration": 27,
    "start_time": "2025-03-22T17:01:23.657Z"
   },
   {
    "duration": 26,
    "start_time": "2025-03-22T17:06:23.710Z"
   },
   {
    "duration": 26,
    "start_time": "2025-03-22T17:06:55.751Z"
   },
   {
    "duration": 27,
    "start_time": "2025-03-22T17:07:17.451Z"
   },
   {
    "duration": 27,
    "start_time": "2025-03-22T17:07:42.202Z"
   },
   {
    "duration": 27,
    "start_time": "2025-03-22T17:09:21.379Z"
   },
   {
    "duration": 31,
    "start_time": "2025-03-22T17:25:14.491Z"
   },
   {
    "duration": 74,
    "start_time": "2025-03-22T17:25:34.678Z"
   },
   {
    "duration": 33,
    "start_time": "2025-03-22T17:25:59.381Z"
   },
   {
    "duration": 38,
    "start_time": "2025-03-22T17:26:10.171Z"
   },
   {
    "duration": 33,
    "start_time": "2025-03-22T17:26:20.055Z"
   },
   {
    "duration": 35,
    "start_time": "2025-03-22T17:26:26.918Z"
   },
   {
    "duration": 34,
    "start_time": "2025-03-22T17:26:40.064Z"
   },
   {
    "duration": 36,
    "start_time": "2025-03-22T17:26:49.762Z"
   },
   {
    "duration": 33,
    "start_time": "2025-03-22T17:26:58.994Z"
   },
   {
    "duration": 32,
    "start_time": "2025-03-22T17:27:13.338Z"
   },
   {
    "duration": 33,
    "start_time": "2025-03-22T17:27:18.119Z"
   },
   {
    "duration": 33,
    "start_time": "2025-03-22T17:27:25.569Z"
   },
   {
    "duration": 10,
    "start_time": "2025-03-22T17:40:04.752Z"
   },
   {
    "duration": 13,
    "start_time": "2025-03-22T17:40:16.517Z"
   },
   {
    "duration": 26,
    "start_time": "2025-03-22T21:12:31.611Z"
   },
   {
    "duration": 16,
    "start_time": "2025-03-22T21:28:46.092Z"
   },
   {
    "duration": 14,
    "start_time": "2025-03-22T21:33:34.816Z"
   },
   {
    "duration": 94,
    "start_time": "2025-03-22T22:06:52.722Z"
   },
   {
    "duration": 20,
    "start_time": "2025-03-22T22:08:41.751Z"
   },
   {
    "duration": 20,
    "start_time": "2025-03-22T22:09:44.719Z"
   },
   {
    "duration": 29,
    "start_time": "2025-03-22T22:10:00.443Z"
   },
   {
    "duration": 46,
    "start_time": "2025-03-22T22:11:14.101Z"
   },
   {
    "duration": 45,
    "start_time": "2025-03-22T22:11:21.347Z"
   },
   {
    "duration": 25,
    "start_time": "2025-03-22T22:12:01.476Z"
   },
   {
    "duration": 22,
    "start_time": "2025-03-22T22:14:39.217Z"
   },
   {
    "duration": 22,
    "start_time": "2025-03-22T22:15:49.089Z"
   },
   {
    "duration": 18,
    "start_time": "2025-03-22T22:17:13.551Z"
   },
   {
    "duration": 24,
    "start_time": "2025-03-22T22:17:51.216Z"
   },
   {
    "duration": 31,
    "start_time": "2025-03-22T22:19:23.047Z"
   },
   {
    "duration": 27,
    "start_time": "2025-03-22T22:21:14.265Z"
   },
   {
    "duration": 29,
    "start_time": "2025-03-22T22:24:27.461Z"
   },
   {
    "duration": 30,
    "start_time": "2025-03-22T22:24:41.416Z"
   },
   {
    "duration": 34,
    "start_time": "2025-03-22T22:26:25.713Z"
   },
   {
    "duration": 33,
    "start_time": "2025-03-22T22:32:54.641Z"
   },
   {
    "duration": 41,
    "start_time": "2025-03-22T22:33:53.346Z"
   },
   {
    "duration": 39,
    "start_time": "2025-03-22T22:35:13.616Z"
   },
   {
    "duration": 40,
    "start_time": "2025-03-22T22:36:29.344Z"
   },
   {
    "duration": 38,
    "start_time": "2025-03-22T22:39:18.037Z"
   },
   {
    "duration": 49,
    "start_time": "2025-03-22T22:39:47.206Z"
   },
   {
    "duration": 419,
    "start_time": "2025-03-22T22:40:19.929Z"
   },
   {
    "duration": 24,
    "start_time": "2025-03-22T22:40:20.350Z"
   },
   {
    "duration": 16,
    "start_time": "2025-03-22T22:40:20.375Z"
   },
   {
    "duration": 10,
    "start_time": "2025-03-22T22:40:20.394Z"
   },
   {
    "duration": 36,
    "start_time": "2025-03-22T22:40:20.406Z"
   },
   {
    "duration": 4,
    "start_time": "2025-03-22T22:40:20.443Z"
   },
   {
    "duration": 29,
    "start_time": "2025-03-22T22:40:20.448Z"
   },
   {
    "duration": 15,
    "start_time": "2025-03-22T22:40:20.478Z"
   },
   {
    "duration": 8,
    "start_time": "2025-03-22T22:40:20.495Z"
   },
   {
    "duration": 9,
    "start_time": "2025-03-22T22:40:20.506Z"
   },
   {
    "duration": 38,
    "start_time": "2025-03-22T22:40:20.516Z"
   },
   {
    "duration": 11,
    "start_time": "2025-03-22T22:40:20.574Z"
   },
   {
    "duration": 4,
    "start_time": "2025-03-22T22:40:20.587Z"
   },
   {
    "duration": 13,
    "start_time": "2025-03-22T22:40:20.592Z"
   },
   {
    "duration": 24,
    "start_time": "2025-03-22T22:40:20.607Z"
   },
   {
    "duration": 16,
    "start_time": "2025-03-22T22:40:20.632Z"
   },
   {
    "duration": 27,
    "start_time": "2025-03-22T22:40:20.650Z"
   },
   {
    "duration": 24,
    "start_time": "2025-03-22T22:40:20.679Z"
   },
   {
    "duration": 11,
    "start_time": "2025-03-22T22:40:20.704Z"
   },
   {
    "duration": 3,
    "start_time": "2025-03-22T22:40:20.717Z"
   },
   {
    "duration": 11,
    "start_time": "2025-03-22T22:40:20.722Z"
   },
   {
    "duration": 49,
    "start_time": "2025-03-22T22:40:20.735Z"
   },
   {
    "duration": 61,
    "start_time": "2025-03-22T22:40:20.785Z"
   },
   {
    "duration": 2,
    "start_time": "2025-03-22T22:40:20.848Z"
   },
   {
    "duration": 18,
    "start_time": "2025-03-22T22:40:20.851Z"
   },
   {
    "duration": 64,
    "start_time": "2025-03-22T22:42:06.482Z"
   },
   {
    "duration": 63,
    "start_time": "2025-03-22T22:43:10.207Z"
   },
   {
    "duration": 112,
    "start_time": "2025-03-22T22:49:07.232Z"
   },
   {
    "duration": 46,
    "start_time": "2025-03-22T22:49:49.296Z"
   },
   {
    "duration": 55,
    "start_time": "2025-03-22T22:50:15.129Z"
   },
   {
    "duration": 51,
    "start_time": "2025-03-22T22:51:16.048Z"
   },
   {
    "duration": 55,
    "start_time": "2025-03-22T22:53:42.794Z"
   },
   {
    "duration": 51,
    "start_time": "2025-03-22T22:53:49.809Z"
   },
   {
    "duration": 84,
    "start_time": "2025-03-22T22:55:29.017Z"
   },
   {
    "duration": 46,
    "start_time": "2025-03-22T22:56:11.779Z"
   },
   {
    "duration": 37,
    "start_time": "2025-03-22T23:13:48.832Z"
   },
   {
    "duration": 5,
    "start_time": "2025-03-22T23:28:09.980Z"
   },
   {
    "duration": 4,
    "start_time": "2025-03-22T23:28:23.476Z"
   },
   {
    "duration": 4,
    "start_time": "2025-03-22T23:28:56.636Z"
   },
   {
    "duration": 6,
    "start_time": "2025-03-22T23:29:14.243Z"
   },
   {
    "duration": 9,
    "start_time": "2025-03-22T23:31:31.675Z"
   },
   {
    "duration": 419,
    "start_time": "2025-03-22T23:31:52.131Z"
   },
   {
    "duration": 22,
    "start_time": "2025-03-22T23:31:52.552Z"
   },
   {
    "duration": 15,
    "start_time": "2025-03-22T23:31:52.575Z"
   },
   {
    "duration": 11,
    "start_time": "2025-03-22T23:31:52.591Z"
   },
   {
    "duration": 37,
    "start_time": "2025-03-22T23:31:52.603Z"
   },
   {
    "duration": 3,
    "start_time": "2025-03-22T23:31:52.642Z"
   },
   {
    "duration": 29,
    "start_time": "2025-03-22T23:31:52.646Z"
   },
   {
    "duration": 3,
    "start_time": "2025-03-22T23:31:52.677Z"
   },
   {
    "duration": 7,
    "start_time": "2025-03-22T23:31:52.682Z"
   },
   {
    "duration": 4,
    "start_time": "2025-03-22T23:31:52.691Z"
   },
   {
    "duration": 49,
    "start_time": "2025-03-22T23:31:52.696Z"
   },
   {
    "duration": 31,
    "start_time": "2025-03-22T23:31:52.747Z"
   },
   {
    "duration": 5,
    "start_time": "2025-03-22T23:31:52.780Z"
   },
   {
    "duration": 18,
    "start_time": "2025-03-22T23:31:52.787Z"
   },
   {
    "duration": 25,
    "start_time": "2025-03-22T23:31:52.807Z"
   },
   {
    "duration": 40,
    "start_time": "2025-03-22T23:31:52.834Z"
   },
   {
    "duration": 4,
    "start_time": "2025-03-22T23:31:52.876Z"
   },
   {
    "duration": 12,
    "start_time": "2025-03-22T23:31:52.881Z"
   },
   {
    "duration": 5,
    "start_time": "2025-03-22T23:31:52.894Z"
   },
   {
    "duration": 4,
    "start_time": "2025-03-22T23:31:52.900Z"
   },
   {
    "duration": 13,
    "start_time": "2025-03-22T23:31:52.906Z"
   },
   {
    "duration": 61,
    "start_time": "2025-03-22T23:31:52.920Z"
   },
   {
    "duration": 33,
    "start_time": "2025-03-22T23:31:52.983Z"
   },
   {
    "duration": 6,
    "start_time": "2025-03-22T23:31:53.018Z"
   },
   {
    "duration": 9,
    "start_time": "2025-03-22T23:31:53.026Z"
   },
   {
    "duration": 9,
    "start_time": "2025-03-22T23:32:33.487Z"
   },
   {
    "duration": 12,
    "start_time": "2025-03-22T23:34:51.475Z"
   },
   {
    "duration": 68,
    "start_time": "2025-03-22T23:53:10.227Z"
   },
   {
    "duration": 9,
    "start_time": "2025-03-22T23:53:28.421Z"
   },
   {
    "duration": 26,
    "start_time": "2025-03-22T23:56:07.058Z"
   },
   {
    "duration": 15,
    "start_time": "2025-03-22T23:56:24.374Z"
   },
   {
    "duration": 17,
    "start_time": "2025-03-22T23:58:19.878Z"
   },
   {
    "duration": 13,
    "start_time": "2025-03-23T00:00:12.473Z"
   },
   {
    "duration": 15,
    "start_time": "2025-03-23T00:00:31.637Z"
   },
   {
    "duration": 14,
    "start_time": "2025-03-23T00:00:54.180Z"
   },
   {
    "duration": 14,
    "start_time": "2025-03-23T00:01:01.205Z"
   },
   {
    "duration": 19,
    "start_time": "2025-03-23T00:01:28.835Z"
   },
   {
    "duration": 473,
    "start_time": "2025-03-23T10:13:31.542Z"
   },
   {
    "duration": 23,
    "start_time": "2025-03-23T10:13:32.016Z"
   },
   {
    "duration": 38,
    "start_time": "2025-03-23T10:13:32.042Z"
   },
   {
    "duration": 17,
    "start_time": "2025-03-23T10:13:32.083Z"
   },
   {
    "duration": 54,
    "start_time": "2025-03-23T10:13:32.102Z"
   },
   {
    "duration": 4,
    "start_time": "2025-03-23T10:13:32.157Z"
   },
   {
    "duration": 15,
    "start_time": "2025-03-23T10:13:32.163Z"
   },
   {
    "duration": 5,
    "start_time": "2025-03-23T10:13:32.179Z"
   },
   {
    "duration": 14,
    "start_time": "2025-03-23T10:13:32.185Z"
   },
   {
    "duration": 6,
    "start_time": "2025-03-23T10:13:32.200Z"
   },
   {
    "duration": 57,
    "start_time": "2025-03-23T10:13:32.207Z"
   },
   {
    "duration": 10,
    "start_time": "2025-03-23T10:13:32.266Z"
   },
   {
    "duration": 4,
    "start_time": "2025-03-23T10:13:32.280Z"
   },
   {
    "duration": 31,
    "start_time": "2025-03-23T10:13:32.286Z"
   },
   {
    "duration": 43,
    "start_time": "2025-03-23T10:13:32.319Z"
   },
   {
    "duration": 26,
    "start_time": "2025-03-23T10:13:32.364Z"
   },
   {
    "duration": 5,
    "start_time": "2025-03-23T10:13:32.392Z"
   },
   {
    "duration": 15,
    "start_time": "2025-03-23T10:13:32.399Z"
   },
   {
    "duration": 22,
    "start_time": "2025-03-23T10:13:32.416Z"
   },
   {
    "duration": 19,
    "start_time": "2025-03-23T10:13:32.439Z"
   },
   {
    "duration": 9,
    "start_time": "2025-03-23T10:13:32.460Z"
   },
   {
    "duration": 38,
    "start_time": "2025-03-23T10:13:32.471Z"
   },
   {
    "duration": 58,
    "start_time": "2025-03-23T10:13:32.510Z"
   },
   {
    "duration": 17,
    "start_time": "2025-03-23T10:13:32.569Z"
   },
   {
    "duration": 25,
    "start_time": "2025-03-23T10:13:32.587Z"
   },
   {
    "duration": 63,
    "start_time": "2025-03-23T13:12:08.511Z"
   },
   {
    "duration": 475,
    "start_time": "2025-03-23T13:12:25.157Z"
   },
   {
    "duration": 29,
    "start_time": "2025-03-23T13:12:25.634Z"
   },
   {
    "duration": 14,
    "start_time": "2025-03-23T13:12:25.664Z"
   },
   {
    "duration": 10,
    "start_time": "2025-03-23T13:12:25.680Z"
   },
   {
    "duration": 62,
    "start_time": "2025-03-23T13:12:25.692Z"
   },
   {
    "duration": 3,
    "start_time": "2025-03-23T13:12:25.756Z"
   },
   {
    "duration": 10,
    "start_time": "2025-03-23T13:12:25.761Z"
   },
   {
    "duration": 4,
    "start_time": "2025-03-23T13:12:25.773Z"
   },
   {
    "duration": 13,
    "start_time": "2025-03-23T13:12:25.778Z"
   },
   {
    "duration": 4,
    "start_time": "2025-03-23T13:12:25.794Z"
   },
   {
    "duration": 61,
    "start_time": "2025-03-23T13:12:25.799Z"
   },
   {
    "duration": 11,
    "start_time": "2025-03-23T13:12:25.862Z"
   },
   {
    "duration": 4,
    "start_time": "2025-03-23T13:12:25.874Z"
   },
   {
    "duration": 12,
    "start_time": "2025-03-23T13:12:25.880Z"
   },
   {
    "duration": 50,
    "start_time": "2025-03-23T13:12:25.893Z"
   },
   {
    "duration": 19,
    "start_time": "2025-03-23T13:12:25.945Z"
   },
   {
    "duration": 3,
    "start_time": "2025-03-23T13:12:25.966Z"
   },
   {
    "duration": 10,
    "start_time": "2025-03-23T13:12:25.970Z"
   },
   {
    "duration": 8,
    "start_time": "2025-03-23T13:12:25.981Z"
   },
   {
    "duration": 24,
    "start_time": "2025-03-23T13:12:25.990Z"
   },
   {
    "duration": 53,
    "start_time": "2025-03-23T13:12:26.016Z"
   },
   {
    "duration": 51,
    "start_time": "2025-03-23T13:12:26.070Z"
   },
   {
    "duration": 39,
    "start_time": "2025-03-23T13:12:26.123Z"
   },
   {
    "duration": 31,
    "start_time": "2025-03-23T13:12:26.164Z"
   },
   {
    "duration": 10,
    "start_time": "2025-03-23T13:12:26.196Z"
   },
   {
    "duration": 47,
    "start_time": "2025-03-23T13:13:17.271Z"
   },
   {
    "duration": 503,
    "start_time": "2025-03-23T13:13:37.023Z"
   },
   {
    "duration": 59,
    "start_time": "2025-03-23T13:13:52.288Z"
   },
   {
    "duration": 32,
    "start_time": "2025-03-23T13:44:30.593Z"
   },
   {
    "duration": 38,
    "start_time": "2025-03-23T13:44:49.228Z"
   },
   {
    "duration": 34,
    "start_time": "2025-03-23T13:45:09.294Z"
   },
   {
    "duration": 33,
    "start_time": "2025-03-23T13:45:29.276Z"
   },
   {
    "duration": 42,
    "start_time": "2025-03-23T13:53:35.660Z"
   },
   {
    "duration": 52,
    "start_time": "2025-03-23T14:04:26.749Z"
   },
   {
    "duration": 55,
    "start_time": "2025-03-23T14:04:40.542Z"
   },
   {
    "duration": 35,
    "start_time": "2025-03-23T14:09:13.913Z"
   },
   {
    "duration": 30,
    "start_time": "2025-03-23T14:10:52.230Z"
   },
   {
    "duration": 60,
    "start_time": "2025-03-23T14:24:49.771Z"
   },
   {
    "duration": 471,
    "start_time": "2025-03-23T14:40:44.635Z"
   },
   {
    "duration": 21,
    "start_time": "2025-03-23T14:40:45.108Z"
   },
   {
    "duration": 25,
    "start_time": "2025-03-23T14:40:45.130Z"
   },
   {
    "duration": 10,
    "start_time": "2025-03-23T14:40:45.157Z"
   },
   {
    "duration": 80,
    "start_time": "2025-03-23T14:40:45.168Z"
   },
   {
    "duration": 3,
    "start_time": "2025-03-23T14:40:45.249Z"
   },
   {
    "duration": 9,
    "start_time": "2025-03-23T14:40:45.254Z"
   },
   {
    "duration": 12,
    "start_time": "2025-03-23T14:40:45.264Z"
   },
   {
    "duration": 8,
    "start_time": "2025-03-23T14:40:45.278Z"
   },
   {
    "duration": 5,
    "start_time": "2025-03-23T14:40:45.288Z"
   },
   {
    "duration": 43,
    "start_time": "2025-03-23T14:40:45.295Z"
   },
   {
    "duration": 10,
    "start_time": "2025-03-23T14:40:45.340Z"
   },
   {
    "duration": 4,
    "start_time": "2025-03-23T14:40:45.351Z"
   },
   {
    "duration": 11,
    "start_time": "2025-03-23T14:40:45.356Z"
   },
   {
    "duration": 18,
    "start_time": "2025-03-23T14:40:45.369Z"
   },
   {
    "duration": 15,
    "start_time": "2025-03-23T14:40:45.388Z"
   },
   {
    "duration": 3,
    "start_time": "2025-03-23T14:40:45.404Z"
   },
   {
    "duration": 10,
    "start_time": "2025-03-23T14:40:45.436Z"
   },
   {
    "duration": 6,
    "start_time": "2025-03-23T14:40:45.448Z"
   },
   {
    "duration": 4,
    "start_time": "2025-03-23T14:40:45.455Z"
   },
   {
    "duration": 9,
    "start_time": "2025-03-23T14:40:45.461Z"
   },
   {
    "duration": 96,
    "start_time": "2025-03-23T14:40:45.472Z"
   },
   {
    "duration": 0,
    "start_time": "2025-03-23T14:40:45.570Z"
   },
   {
    "duration": 0,
    "start_time": "2025-03-23T14:40:45.571Z"
   },
   {
    "duration": 0,
    "start_time": "2025-03-23T14:40:45.573Z"
   },
   {
    "duration": 452,
    "start_time": "2025-03-23T14:41:50.400Z"
   },
   {
    "duration": 21,
    "start_time": "2025-03-23T14:41:50.854Z"
   },
   {
    "duration": 82,
    "start_time": "2025-03-23T14:41:50.877Z"
   },
   {
    "duration": 9,
    "start_time": "2025-03-23T14:41:50.961Z"
   },
   {
    "duration": 32,
    "start_time": "2025-03-23T14:41:50.972Z"
   },
   {
    "duration": 3,
    "start_time": "2025-03-23T14:41:51.006Z"
   },
   {
    "duration": 10,
    "start_time": "2025-03-23T14:41:51.010Z"
   },
   {
    "duration": 17,
    "start_time": "2025-03-23T14:41:51.021Z"
   },
   {
    "duration": 10,
    "start_time": "2025-03-23T14:41:51.040Z"
   },
   {
    "duration": 4,
    "start_time": "2025-03-23T14:41:51.051Z"
   },
   {
    "duration": 35,
    "start_time": "2025-03-23T14:41:51.057Z"
   },
   {
    "duration": 11,
    "start_time": "2025-03-23T14:41:51.094Z"
   },
   {
    "duration": 30,
    "start_time": "2025-03-23T14:41:51.107Z"
   },
   {
    "duration": 27,
    "start_time": "2025-03-23T14:41:51.140Z"
   },
   {
    "duration": 21,
    "start_time": "2025-03-23T14:41:51.168Z"
   },
   {
    "duration": 17,
    "start_time": "2025-03-23T14:41:51.190Z"
   },
   {
    "duration": 4,
    "start_time": "2025-03-23T14:41:51.208Z"
   },
   {
    "duration": 22,
    "start_time": "2025-03-23T14:41:51.213Z"
   },
   {
    "duration": 5,
    "start_time": "2025-03-23T14:41:51.237Z"
   },
   {
    "duration": 5,
    "start_time": "2025-03-23T14:41:51.243Z"
   },
   {
    "duration": 8,
    "start_time": "2025-03-23T14:41:51.250Z"
   },
   {
    "duration": 317,
    "start_time": "2025-03-23T14:41:51.260Z"
   },
   {
    "duration": 76,
    "start_time": "2025-03-23T14:41:51.579Z"
   },
   {
    "duration": 41,
    "start_time": "2025-03-23T14:41:51.656Z"
   },
   {
    "duration": 45,
    "start_time": "2025-03-23T14:41:51.698Z"
   },
   {
    "duration": 98,
    "start_time": "2025-03-23T14:46:08.012Z"
   },
   {
    "duration": 86,
    "start_time": "2025-03-23T14:46:57.376Z"
   },
   {
    "duration": 82,
    "start_time": "2025-03-23T14:47:10.717Z"
   },
   {
    "duration": 473,
    "start_time": "2025-03-23T14:50:17.975Z"
   },
   {
    "duration": 25,
    "start_time": "2025-03-23T14:50:18.450Z"
   },
   {
    "duration": 16,
    "start_time": "2025-03-23T14:50:18.477Z"
   },
   {
    "duration": 10,
    "start_time": "2025-03-23T14:50:18.495Z"
   },
   {
    "duration": 55,
    "start_time": "2025-03-23T14:50:18.507Z"
   },
   {
    "duration": 4,
    "start_time": "2025-03-23T14:50:18.563Z"
   },
   {
    "duration": 16,
    "start_time": "2025-03-23T14:50:18.569Z"
   },
   {
    "duration": 12,
    "start_time": "2025-03-23T14:50:18.587Z"
   },
   {
    "duration": 14,
    "start_time": "2025-03-23T14:50:18.600Z"
   },
   {
    "duration": 5,
    "start_time": "2025-03-23T14:50:18.617Z"
   },
   {
    "duration": 42,
    "start_time": "2025-03-23T14:50:18.623Z"
   },
   {
    "duration": 10,
    "start_time": "2025-03-23T14:50:18.666Z"
   },
   {
    "duration": 5,
    "start_time": "2025-03-23T14:50:18.678Z"
   },
   {
    "duration": 13,
    "start_time": "2025-03-23T14:50:18.685Z"
   },
   {
    "duration": 42,
    "start_time": "2025-03-23T14:50:18.700Z"
   },
   {
    "duration": 16,
    "start_time": "2025-03-23T14:50:18.743Z"
   },
   {
    "duration": 3,
    "start_time": "2025-03-23T14:50:18.760Z"
   },
   {
    "duration": 10,
    "start_time": "2025-03-23T14:50:18.765Z"
   },
   {
    "duration": 14,
    "start_time": "2025-03-23T14:50:18.777Z"
   },
   {
    "duration": 3,
    "start_time": "2025-03-23T14:50:18.793Z"
   },
   {
    "duration": 15,
    "start_time": "2025-03-23T14:50:18.798Z"
   },
   {
    "duration": 328,
    "start_time": "2025-03-23T14:50:18.815Z"
   },
   {
    "duration": 91,
    "start_time": "2025-03-23T14:50:19.145Z"
   },
   {
    "duration": 41,
    "start_time": "2025-03-23T14:50:19.238Z"
   },
   {
    "duration": 27,
    "start_time": "2025-03-23T14:50:19.280Z"
   },
   {
    "duration": 101,
    "start_time": "2025-03-23T14:52:59.720Z"
   },
   {
    "duration": 79,
    "start_time": "2025-03-23T14:53:36.811Z"
   },
   {
    "duration": 436,
    "start_time": "2025-03-23T17:00:42.296Z"
   },
   {
    "duration": 25,
    "start_time": "2025-03-23T17:00:42.734Z"
   },
   {
    "duration": 72,
    "start_time": "2025-03-23T17:00:42.761Z"
   },
   {
    "duration": 12,
    "start_time": "2025-03-23T17:00:42.835Z"
   },
   {
    "duration": 35,
    "start_time": "2025-03-23T17:00:42.849Z"
   },
   {
    "duration": 4,
    "start_time": "2025-03-23T17:00:42.886Z"
   },
   {
    "duration": 8,
    "start_time": "2025-03-23T17:00:42.891Z"
   },
   {
    "duration": 4,
    "start_time": "2025-03-23T17:00:42.901Z"
   },
   {
    "duration": 9,
    "start_time": "2025-03-23T17:00:42.936Z"
   },
   {
    "duration": 4,
    "start_time": "2025-03-23T17:00:42.948Z"
   },
   {
    "duration": 35,
    "start_time": "2025-03-23T17:00:42.954Z"
   },
   {
    "duration": 11,
    "start_time": "2025-03-23T17:00:42.990Z"
   },
   {
    "duration": 35,
    "start_time": "2025-03-23T17:00:43.002Z"
   },
   {
    "duration": 12,
    "start_time": "2025-03-23T17:00:43.039Z"
   },
   {
    "duration": 31,
    "start_time": "2025-03-23T17:00:43.052Z"
   },
   {
    "duration": 20,
    "start_time": "2025-03-23T17:00:43.161Z"
   },
   {
    "duration": 339,
    "start_time": "2025-03-23T17:00:43.183Z"
   },
   {
    "duration": 86,
    "start_time": "2025-03-23T17:00:43.524Z"
   },
   {
    "duration": 50,
    "start_time": "2025-03-23T17:00:43.612Z"
   },
   {
    "duration": 30,
    "start_time": "2025-03-23T17:00:43.664Z"
   }
  ],
  "colab": {
   "name": "dpp_template_part2.ipynb",
   "provenance": []
  },
  "kernelspec": {
   "display_name": "Python 3 (ipykernel)",
   "language": "python",
   "name": "python3"
  },
  "language_info": {
   "codemirror_mode": {
    "name": "ipython",
    "version": 3
   },
   "file_extension": ".py",
   "mimetype": "text/x-python",
   "name": "python",
   "nbconvert_exporter": "python",
   "pygments_lexer": "ipython3",
   "version": "3.12.7"
  },
  "panel-cell-order": [
   "144d55dc",
   "d960cf82",
   "7d05f2c5",
   "4dc410d0",
   "ee465fd8",
   "c97510e0",
   "ac8cf266",
   "64107098",
   "a62ab20a",
   "be478d49",
   "6bdc06b3",
   "4c64122a",
   "30d1cb15",
   "9faa75c9",
   "98dfd00f",
   "8d45929f",
   "e0b8bec9",
   "931687c2",
   "3a1386d5",
   "ddd80b86",
   "42744230",
   "26784151",
   "3b3cdbb0",
   "1079edb9",
   "eb651bc2",
   "b29bf918",
   "882cbdf8",
   "3385bd67",
   "22c3779c",
   "9605f751",
   "1dd1db71",
   "58a98478",
   "5539e49c",
   "ddca76d5",
   "83be67ff",
   "6d50dee8",
   "aaa2766f",
   "3d446a5b",
   "6cef98c3",
   "1b34e4dd",
   "05f4f111",
   "662447c6",
   "dda74c63",
   "5294b42e",
   "f9aa2161",
   "e85692e2",
   "859fef52",
   "ce8dd17f",
   "6bc8c613",
   "98b63261",
   "32ecaf64",
   "e963213f",
   "9c8690b0-bc5a-4b45-9e04-3eea29965d1c",
   "52e17675-b4e7-4194-9939-b6e0f10c5a32",
   "64c840c6",
   "0f989381",
   "f2974b53",
   "44fae579"
  ],
  "toc": {
   "base_numbering": 1,
   "nav_menu": {},
   "number_sections": true,
   "sideBar": true,
   "skip_h1_title": true,
   "title_cell": "Table of Contents",
   "title_sidebar": "Contents",
   "toc_cell": false,
   "toc_position": {
    "height": "calc(100% - 180px)",
    "left": "10px",
    "top": "150px",
    "width": "165px"
   },
   "toc_section_display": true,
   "toc_window_display": true
  }
 },
 "nbformat": 4,
 "nbformat_minor": 5
}
